{
  "nbformat": 4,
  "nbformat_minor": 0,
  "metadata": {
    "colab": {
      "provenance": [],
      "collapsed_sections": [
        "zbGlkVLJHqzK",
        "IHWSzCaWkpCI",
        "yguk2LPbmDeB",
        "_kuAD6LRH-1h",
        "liT7HDWf8OnU",
        "t1Qfpm0WVUJq",
        "vET_wWijVNz3",
        "Y8m2erfZpQ9e",
        "79KWJUT6ym73"
      ],
      "mount_file_id": "10vCEvfhy2wtX1x3gZ420HJNIox4qh-k4",
      "authorship_tag": "ABX9TyNiEj9hYR9fB+bSSCdo4z3r",
      "include_colab_link": true
    },
    "kernelspec": {
      "name": "python3",
      "display_name": "Python 3"
    },
    "language_info": {
      "name": "python"
    },
    "widgets": {
      "application/vnd.jupyter.widget-state+json": {
        "84a3028bfb1541f9bcceddee5828d640": {
          "model_module": "@jupyter-widgets/controls",
          "model_name": "HBoxModel",
          "model_module_version": "1.5.0",
          "state": {
            "_dom_classes": [],
            "_model_module": "@jupyter-widgets/controls",
            "_model_module_version": "1.5.0",
            "_model_name": "HBoxModel",
            "_view_count": null,
            "_view_module": "@jupyter-widgets/controls",
            "_view_module_version": "1.5.0",
            "_view_name": "HBoxView",
            "box_style": "",
            "children": [
              "IPY_MODEL_1ec284f28957455f955dfff4fa93de63",
              "IPY_MODEL_b0d06d52acbd4074915244ffca715ece",
              "IPY_MODEL_35750f62661f4bc3b6693bf3ef606f80"
            ],
            "layout": "IPY_MODEL_d954710e79ab4a4094896a5111bb4ab9"
          }
        },
        "1ec284f28957455f955dfff4fa93de63": {
          "model_module": "@jupyter-widgets/controls",
          "model_name": "HTMLModel",
          "model_module_version": "1.5.0",
          "state": {
            "_dom_classes": [],
            "_model_module": "@jupyter-widgets/controls",
            "_model_module_version": "1.5.0",
            "_model_name": "HTMLModel",
            "_view_count": null,
            "_view_module": "@jupyter-widgets/controls",
            "_view_module_version": "1.5.0",
            "_view_name": "HTMLView",
            "description": "",
            "description_tooltip": null,
            "layout": "IPY_MODEL_6d08b503c91f4f99aedf3d269217aa48",
            "placeholder": "​",
            "style": "IPY_MODEL_39b5ee3e87c94cfeaad83333c60615ce",
            "value": "Fetching 13 files: 100%"
          }
        },
        "b0d06d52acbd4074915244ffca715ece": {
          "model_module": "@jupyter-widgets/controls",
          "model_name": "FloatProgressModel",
          "model_module_version": "1.5.0",
          "state": {
            "_dom_classes": [],
            "_model_module": "@jupyter-widgets/controls",
            "_model_module_version": "1.5.0",
            "_model_name": "FloatProgressModel",
            "_view_count": null,
            "_view_module": "@jupyter-widgets/controls",
            "_view_module_version": "1.5.0",
            "_view_name": "ProgressView",
            "bar_style": "success",
            "description": "",
            "description_tooltip": null,
            "layout": "IPY_MODEL_041243299789478b8da2b8466e85cd4f",
            "max": 13,
            "min": 0,
            "orientation": "horizontal",
            "style": "IPY_MODEL_94d6fe13df954d89938303cfc3a2bfb9",
            "value": 13
          }
        },
        "35750f62661f4bc3b6693bf3ef606f80": {
          "model_module": "@jupyter-widgets/controls",
          "model_name": "HTMLModel",
          "model_module_version": "1.5.0",
          "state": {
            "_dom_classes": [],
            "_model_module": "@jupyter-widgets/controls",
            "_model_module_version": "1.5.0",
            "_model_name": "HTMLModel",
            "_view_count": null,
            "_view_module": "@jupyter-widgets/controls",
            "_view_module_version": "1.5.0",
            "_view_name": "HTMLView",
            "description": "",
            "description_tooltip": null,
            "layout": "IPY_MODEL_781521c6077243a5b487f0a1d4f3bd66",
            "placeholder": "​",
            "style": "IPY_MODEL_da04dc780c4c41eba2229e70b0d267e0",
            "value": " 13/13 [00:00&lt;00:00, 255.97it/s]"
          }
        },
        "d954710e79ab4a4094896a5111bb4ab9": {
          "model_module": "@jupyter-widgets/base",
          "model_name": "LayoutModel",
          "model_module_version": "1.2.0",
          "state": {
            "_model_module": "@jupyter-widgets/base",
            "_model_module_version": "1.2.0",
            "_model_name": "LayoutModel",
            "_view_count": null,
            "_view_module": "@jupyter-widgets/base",
            "_view_module_version": "1.2.0",
            "_view_name": "LayoutView",
            "align_content": null,
            "align_items": null,
            "align_self": null,
            "border": null,
            "bottom": null,
            "display": null,
            "flex": null,
            "flex_flow": null,
            "grid_area": null,
            "grid_auto_columns": null,
            "grid_auto_flow": null,
            "grid_auto_rows": null,
            "grid_column": null,
            "grid_gap": null,
            "grid_row": null,
            "grid_template_areas": null,
            "grid_template_columns": null,
            "grid_template_rows": null,
            "height": null,
            "justify_content": null,
            "justify_items": null,
            "left": null,
            "margin": null,
            "max_height": null,
            "max_width": null,
            "min_height": null,
            "min_width": null,
            "object_fit": null,
            "object_position": null,
            "order": null,
            "overflow": null,
            "overflow_x": null,
            "overflow_y": null,
            "padding": null,
            "right": null,
            "top": null,
            "visibility": null,
            "width": null
          }
        },
        "6d08b503c91f4f99aedf3d269217aa48": {
          "model_module": "@jupyter-widgets/base",
          "model_name": "LayoutModel",
          "model_module_version": "1.2.0",
          "state": {
            "_model_module": "@jupyter-widgets/base",
            "_model_module_version": "1.2.0",
            "_model_name": "LayoutModel",
            "_view_count": null,
            "_view_module": "@jupyter-widgets/base",
            "_view_module_version": "1.2.0",
            "_view_name": "LayoutView",
            "align_content": null,
            "align_items": null,
            "align_self": null,
            "border": null,
            "bottom": null,
            "display": null,
            "flex": null,
            "flex_flow": null,
            "grid_area": null,
            "grid_auto_columns": null,
            "grid_auto_flow": null,
            "grid_auto_rows": null,
            "grid_column": null,
            "grid_gap": null,
            "grid_row": null,
            "grid_template_areas": null,
            "grid_template_columns": null,
            "grid_template_rows": null,
            "height": null,
            "justify_content": null,
            "justify_items": null,
            "left": null,
            "margin": null,
            "max_height": null,
            "max_width": null,
            "min_height": null,
            "min_width": null,
            "object_fit": null,
            "object_position": null,
            "order": null,
            "overflow": null,
            "overflow_x": null,
            "overflow_y": null,
            "padding": null,
            "right": null,
            "top": null,
            "visibility": null,
            "width": null
          }
        },
        "39b5ee3e87c94cfeaad83333c60615ce": {
          "model_module": "@jupyter-widgets/controls",
          "model_name": "DescriptionStyleModel",
          "model_module_version": "1.5.0",
          "state": {
            "_model_module": "@jupyter-widgets/controls",
            "_model_module_version": "1.5.0",
            "_model_name": "DescriptionStyleModel",
            "_view_count": null,
            "_view_module": "@jupyter-widgets/base",
            "_view_module_version": "1.2.0",
            "_view_name": "StyleView",
            "description_width": ""
          }
        },
        "041243299789478b8da2b8466e85cd4f": {
          "model_module": "@jupyter-widgets/base",
          "model_name": "LayoutModel",
          "model_module_version": "1.2.0",
          "state": {
            "_model_module": "@jupyter-widgets/base",
            "_model_module_version": "1.2.0",
            "_model_name": "LayoutModel",
            "_view_count": null,
            "_view_module": "@jupyter-widgets/base",
            "_view_module_version": "1.2.0",
            "_view_name": "LayoutView",
            "align_content": null,
            "align_items": null,
            "align_self": null,
            "border": null,
            "bottom": null,
            "display": null,
            "flex": null,
            "flex_flow": null,
            "grid_area": null,
            "grid_auto_columns": null,
            "grid_auto_flow": null,
            "grid_auto_rows": null,
            "grid_column": null,
            "grid_gap": null,
            "grid_row": null,
            "grid_template_areas": null,
            "grid_template_columns": null,
            "grid_template_rows": null,
            "height": null,
            "justify_content": null,
            "justify_items": null,
            "left": null,
            "margin": null,
            "max_height": null,
            "max_width": null,
            "min_height": null,
            "min_width": null,
            "object_fit": null,
            "object_position": null,
            "order": null,
            "overflow": null,
            "overflow_x": null,
            "overflow_y": null,
            "padding": null,
            "right": null,
            "top": null,
            "visibility": null,
            "width": null
          }
        },
        "94d6fe13df954d89938303cfc3a2bfb9": {
          "model_module": "@jupyter-widgets/controls",
          "model_name": "ProgressStyleModel",
          "model_module_version": "1.5.0",
          "state": {
            "_model_module": "@jupyter-widgets/controls",
            "_model_module_version": "1.5.0",
            "_model_name": "ProgressStyleModel",
            "_view_count": null,
            "_view_module": "@jupyter-widgets/base",
            "_view_module_version": "1.2.0",
            "_view_name": "StyleView",
            "bar_color": null,
            "description_width": ""
          }
        },
        "781521c6077243a5b487f0a1d4f3bd66": {
          "model_module": "@jupyter-widgets/base",
          "model_name": "LayoutModel",
          "model_module_version": "1.2.0",
          "state": {
            "_model_module": "@jupyter-widgets/base",
            "_model_module_version": "1.2.0",
            "_model_name": "LayoutModel",
            "_view_count": null,
            "_view_module": "@jupyter-widgets/base",
            "_view_module_version": "1.2.0",
            "_view_name": "LayoutView",
            "align_content": null,
            "align_items": null,
            "align_self": null,
            "border": null,
            "bottom": null,
            "display": null,
            "flex": null,
            "flex_flow": null,
            "grid_area": null,
            "grid_auto_columns": null,
            "grid_auto_flow": null,
            "grid_auto_rows": null,
            "grid_column": null,
            "grid_gap": null,
            "grid_row": null,
            "grid_template_areas": null,
            "grid_template_columns": null,
            "grid_template_rows": null,
            "height": null,
            "justify_content": null,
            "justify_items": null,
            "left": null,
            "margin": null,
            "max_height": null,
            "max_width": null,
            "min_height": null,
            "min_width": null,
            "object_fit": null,
            "object_position": null,
            "order": null,
            "overflow": null,
            "overflow_x": null,
            "overflow_y": null,
            "padding": null,
            "right": null,
            "top": null,
            "visibility": null,
            "width": null
          }
        },
        "da04dc780c4c41eba2229e70b0d267e0": {
          "model_module": "@jupyter-widgets/controls",
          "model_name": "DescriptionStyleModel",
          "model_module_version": "1.5.0",
          "state": {
            "_model_module": "@jupyter-widgets/controls",
            "_model_module_version": "1.5.0",
            "_model_name": "DescriptionStyleModel",
            "_view_count": null,
            "_view_module": "@jupyter-widgets/base",
            "_view_module_version": "1.2.0",
            "_view_name": "StyleView",
            "description_width": ""
          }
        }
      }
    }
  },
  "cells": [
    {
      "cell_type": "markdown",
      "metadata": {
        "id": "view-in-github",
        "colab_type": "text"
      },
      "source": [
        "<a href=\"https://colab.research.google.com/github/ckabelin/daai/blob/main/VTD_DAAI.ipynb\" target=\"_parent\"><img src=\"https://colab.research.google.com/assets/colab-badge.svg\" alt=\"Open In Colab\"/></a>"
      ]
    },
    {
      "cell_type": "markdown",
      "source": [
        "# Welcome to the Ventum Team Day AI Tutorial\n",
        "\n",
        "In this tutorial you will learn\n",
        "- Include the most common python libs for ai and data analytics\n",
        "- Use several ai methods to chat and integrate data\n",
        "- Learn to code your ai-use-case based on open source and/or open ai"
      ],
      "metadata": {
        "id": "3-zDzVtZ7o8m"
      }
    },
    {
      "cell_type": "markdown",
      "source": [
        "## Usefull reads and links:\n",
        "* https://medium.com/@akriti.upadhyay/implementing-rag-with-langchain-and-hugging-face-28e3ea66c5f7\n",
        "* https://github.com/ckabelin/daai\n",
        "* https://huggingface.co/settings/gated-repos\n",
        "* https://www.langchain.com/\n",
        "* https://openai.com/\n"
      ],
      "metadata": {
        "id": "ZB4F4NW_7jZp"
      }
    },
    {
      "cell_type": "markdown",
      "source": [
        "# 1. Install Dependencies"
      ],
      "metadata": {
        "id": "zbGlkVLJHqzK"
      }
    },
    {
      "cell_type": "markdown",
      "source": [
        "## 1.1 Install os prerequisites"
      ],
      "metadata": {
        "id": "IHWSzCaWkpCI"
      }
    },
    {
      "cell_type": "code",
      "source": [
        "!apt-get update"
      ],
      "metadata": {
        "colab": {
          "base_uri": "https://localhost:8080/"
        },
        "id": "SFmngU-WKcLt",
        "outputId": "8550a8d0-e587-4db9-d399-681e0e2ee6df"
      },
      "execution_count": 1,
      "outputs": [
        {
          "output_type": "stream",
          "name": "stdout",
          "text": [
            "\r0% [Working]\r            \rHit:1 http://archive.ubuntu.com/ubuntu jammy InRelease\n",
            "\r0% [Connecting to security.ubuntu.com (91.189.91.81)] [Connecting to cloud.r-project.org] [Connectin\r                                                                                                    \rGet:2 http://archive.ubuntu.com/ubuntu jammy-updates InRelease [128 kB]\n",
            "\r                                                                                                    \rGet:3 http://archive.ubuntu.com/ubuntu jammy-backports InRelease [127 kB]\n",
            "\r                                                                                                    \rGet:4 http://security.ubuntu.com/ubuntu jammy-security InRelease [129 kB]\n",
            "\r                                                                                                    \rGet:5 https://developer.download.nvidia.com/compute/cuda/repos/ubuntu2204/x86_64  InRelease [1,581 B]\n",
            "\r                                                                                                    \rHit:6 https://ppa.launchpadcontent.net/deadsnakes/ppa/ubuntu jammy InRelease\n",
            "\r                                                                                                    \rHit:7 https://ppa.launchpadcontent.net/graphics-drivers/ppa/ubuntu jammy InRelease\n",
            "Hit:8 https://ppa.launchpadcontent.net/ubuntugis/ppa/ubuntu jammy InRelease\n",
            "Get:9 https://cloud.r-project.org/bin/linux/ubuntu jammy-cran40/ InRelease [3,626 B]\n",
            "Ign:10 https://r2u.stat.illinois.edu/ubuntu jammy InRelease\n",
            "Get:11 https://r2u.stat.illinois.edu/ubuntu jammy Release [5,713 B]\n",
            "Get:12 https://r2u.stat.illinois.edu/ubuntu jammy Release.gpg [793 B]\n",
            "Get:13 http://archive.ubuntu.com/ubuntu jammy-updates/main amd64 Packages [2,648 kB]\n",
            "Get:14 http://archive.ubuntu.com/ubuntu jammy-updates/universe amd64 Packages [1,450 kB]\n",
            "Get:15 https://developer.download.nvidia.com/compute/cuda/repos/ubuntu2204/x86_64  Packages [1,032 kB]\n",
            "Get:16 http://security.ubuntu.com/ubuntu jammy-security/main amd64 Packages [2,372 kB]\n",
            "Get:17 https://r2u.stat.illinois.edu/ubuntu jammy/main all Packages [8,403 kB]\n",
            "Get:18 https://r2u.stat.illinois.edu/ubuntu jammy/main amd64 Packages [2,596 kB]\n",
            "Fetched 18.9 MB in 9s (2,206 kB/s)\n",
            "Reading package lists... Done\n",
            "W: Skipping acquire of configured file 'main/source/Sources' as repository 'https://r2u.stat.illinois.edu/ubuntu jammy InRelease' does not seem to provide it (sources.list entry misspelt?)\n"
          ]
        }
      ]
    },
    {
      "cell_type": "code",
      "source": [
        "!apt-get upgrade -y"
      ],
      "metadata": {
        "colab": {
          "base_uri": "https://localhost:8080/"
        },
        "id": "Ic_VtQuhKb-I",
        "outputId": "470777a1-014f-4b7f-8f6d-b0052d37a00d"
      },
      "execution_count": 2,
      "outputs": [
        {
          "output_type": "stream",
          "name": "stdout",
          "text": [
            "Reading package lists... Done\n",
            "Building dependency tree... Done\n",
            "Reading state information... Done\n",
            "Calculating upgrade... Done\n",
            "The following packages have been kept back:\n",
            "  libcudnn8 libcudnn8-dev libnccl-dev libnccl2\n",
            "The following packages will be upgraded:\n",
            "  base-files bash binutils binutils-common binutils-x86-64-linux-gnu bsdutils coreutils\n",
            "  cuda-compat-12-2 cuda-keyring cuda-toolkit-12-config-common cuda-toolkit-config-common dpkg\n",
            "  dpkg-dev e2fsprogs libbinutils libblkid1 libc-bin libctf-nobfd0 libctf0 libdpkg-perl libext2fs2\n",
            "  libgnutls30 libldap-2.5-0 libmount1 libpam-modules libpam-modules-bin libpam-runtime libpam0g\n",
            "  libperl5.34 libprocps8 libsmartcols1 libss2 libudev1 linux-libc-dev login logsave mount openssl\n",
            "  passwd perl perl-base perl-modules-5.34 procps r-cran-matrix tar util-linux\n",
            "46 upgraded, 0 newly installed, 0 to remove and 4 not upgraded.\n",
            "Need to get 64.6 MB of archives.\n",
            "After this operation, 191 kB of additional disk space will be used.\n",
            "Get:1 http://archive.ubuntu.com/ubuntu jammy-updates/main amd64 base-files amd64 12ubuntu4.7 [61.9 kB]\n",
            "Get:2 http://archive.ubuntu.com/ubuntu jammy-updates/main amd64 bash amd64 5.1-6ubuntu1.1 [769 kB]\n",
            "Get:3 https://developer.download.nvidia.com/compute/cuda/repos/ubuntu2204/x86_64  cuda-compat-12-2 535.183.06-1 [33.6 MB]\n",
            "Get:4 http://archive.ubuntu.com/ubuntu jammy-updates/main amd64 bsdutils amd64 1:2.37.2-4ubuntu3.4 [80.9 kB]\n",
            "Get:5 http://archive.ubuntu.com/ubuntu jammy-updates/main amd64 coreutils amd64 8.32-4.1ubuntu1.2 [1,437 kB]\n",
            "Get:6 http://archive.ubuntu.com/ubuntu jammy-updates/main amd64 tar amd64 1.34+dfsg-1ubuntu0.1.22.04.2 [295 kB]\n",
            "Get:7 http://archive.ubuntu.com/ubuntu jammy-updates/main amd64 dpkg amd64 1.21.1ubuntu2.3 [1,239 kB]\n",
            "Get:8 http://archive.ubuntu.com/ubuntu jammy-updates/main amd64 login amd64 1:4.8.1-2ubuntu2.2 [188 kB]\n",
            "Get:9 http://archive.ubuntu.com/ubuntu jammy-updates/main amd64 libperl5.34 amd64 5.34.0-3ubuntu1.3 [4,820 kB]\n",
            "Get:10 http://archive.ubuntu.com/ubuntu jammy-updates/main amd64 perl amd64 5.34.0-3ubuntu1.3 [232 kB]\n",
            "Get:11 http://archive.ubuntu.com/ubuntu jammy-updates/main amd64 perl-base amd64 5.34.0-3ubuntu1.3 [1,762 kB]\n",
            "Get:12 http://archive.ubuntu.com/ubuntu jammy-updates/main amd64 perl-modules-5.34 all 5.34.0-3ubuntu1.3 [2,976 kB]\n",
            "Get:13 http://archive.ubuntu.com/ubuntu jammy-updates/main amd64 util-linux amd64 2.37.2-4ubuntu3.4 [1,063 kB]\n",
            "Get:14 http://archive.ubuntu.com/ubuntu jammy-updates/main amd64 libc-bin amd64 2.35-0ubuntu3.8 [706 kB]\n",
            "Get:15 http://archive.ubuntu.com/ubuntu jammy-updates/main amd64 libpam0g amd64 1.4.0-11ubuntu2.4 [60.2 kB]\n",
            "Get:16 http://archive.ubuntu.com/ubuntu jammy-updates/main amd64 libpam-modules-bin amd64 1.4.0-11ubuntu2.4 [37.6 kB]\n",
            "Get:17 http://archive.ubuntu.com/ubuntu jammy-updates/main amd64 libpam-modules amd64 1.4.0-11ubuntu2.4 [280 kB]\n",
            "Get:18 http://archive.ubuntu.com/ubuntu jammy-updates/main amd64 logsave amd64 1.46.5-2ubuntu1.2 [10.1 kB]\n",
            "Get:19 http://archive.ubuntu.com/ubuntu jammy-updates/main amd64 libext2fs2 amd64 1.46.5-2ubuntu1.2 [208 kB]\n",
            "Get:20 http://archive.ubuntu.com/ubuntu jammy-updates/main amd64 e2fsprogs amd64 1.46.5-2ubuntu1.2 [590 kB]\n",
            "Get:21 http://archive.ubuntu.com/ubuntu jammy-updates/main amd64 mount amd64 2.37.2-4ubuntu3.4 [114 kB]\n",
            "Get:22 http://archive.ubuntu.com/ubuntu jammy-updates/main amd64 libblkid1 amd64 2.37.2-4ubuntu3.4 [103 kB]\n",
            "Get:23 http://archive.ubuntu.com/ubuntu jammy-updates/main amd64 libmount1 amd64 2.37.2-4ubuntu3.4 [122 kB]\n",
            "Get:24 http://archive.ubuntu.com/ubuntu jammy-updates/main amd64 libpam-runtime all 1.4.0-11ubuntu2.4 [40.3 kB]\n",
            "Get:25 http://archive.ubuntu.com/ubuntu jammy-updates/main amd64 libsmartcols1 amd64 2.37.2-4ubuntu3.4 [50.9 kB]\n",
            "Get:26 http://archive.ubuntu.com/ubuntu jammy-updates/main amd64 libudev1 amd64 249.11-0ubuntu3.12 [78.2 kB]\n",
            "Get:27 http://archive.ubuntu.com/ubuntu jammy-updates/main amd64 passwd amd64 1:4.8.1-2ubuntu2.2 [768 kB]\n",
            "Get:28 http://archive.ubuntu.com/ubuntu jammy-updates/main amd64 libgnutls30 amd64 3.7.3-4ubuntu1.5 [966 kB]\n",
            "Get:29 http://archive.ubuntu.com/ubuntu jammy-updates/main amd64 libprocps8 amd64 2:3.3.17-6ubuntu2.1 [36.2 kB]\n",
            "Get:30 http://archive.ubuntu.com/ubuntu jammy-updates/main amd64 libss2 amd64 1.46.5-2ubuntu1.2 [12.3 kB]\n",
            "Get:31 http://archive.ubuntu.com/ubuntu jammy-updates/main amd64 procps amd64 2:3.3.17-6ubuntu2.1 [378 kB]\n",
            "Get:32 http://archive.ubuntu.com/ubuntu jammy-updates/main amd64 openssl amd64 3.0.2-0ubuntu1.18 [1,184 kB]\n",
            "Get:33 http://archive.ubuntu.com/ubuntu jammy-updates/main amd64 libctf0 amd64 2.38-4ubuntu2.6 [103 kB]\n",
            "Get:34 http://archive.ubuntu.com/ubuntu jammy-updates/main amd64 libctf-nobfd0 amd64 2.38-4ubuntu2.6 [108 kB]\n",
            "Get:35 http://archive.ubuntu.com/ubuntu jammy-updates/main amd64 binutils-x86-64-linux-gnu amd64 2.38-4ubuntu2.6 [2,326 kB]\n",
            "Get:36 http://archive.ubuntu.com/ubuntu jammy-updates/main amd64 libbinutils amd64 2.38-4ubuntu2.6 [662 kB]\n",
            "Get:37 http://archive.ubuntu.com/ubuntu jammy-updates/main amd64 binutils amd64 2.38-4ubuntu2.6 [3,200 B]\n",
            "Get:38 http://archive.ubuntu.com/ubuntu jammy-updates/main amd64 binutils-common amd64 2.38-4ubuntu2.6 [222 kB]\n",
            "Get:39 http://archive.ubuntu.com/ubuntu jammy-updates/main amd64 dpkg-dev all 1.21.1ubuntu2.3 [922 kB]\n",
            "Get:40 https://r2u.stat.illinois.edu/ubuntu jammy/main amd64 r-cran-matrix amd64 1.7-1-1.ca2204.1 [4,185 kB]\n",
            "Get:41 http://archive.ubuntu.com/ubuntu jammy-updates/main amd64 libdpkg-perl all 1.21.1ubuntu2.3 [237 kB]\n",
            "Get:42 http://archive.ubuntu.com/ubuntu jammy-updates/main amd64 libldap-2.5-0 amd64 2.5.18+dfsg-0ubuntu0.22.04.2 [183 kB]\n",
            "Get:43 http://archive.ubuntu.com/ubuntu jammy-updates/main amd64 linux-libc-dev amd64 5.15.0-124.134 [1,322 kB]\n",
            "Get:44 https://developer.download.nvidia.com/compute/cuda/repos/ubuntu2204/x86_64  cuda-keyring 1.1-1 [4,332 B]\n",
            "Get:45 https://developer.download.nvidia.com/compute/cuda/repos/ubuntu2204/x86_64  cuda-toolkit-12-config-common 12.6.77-1 [16.5 kB]\n",
            "Get:46 https://developer.download.nvidia.com/compute/cuda/repos/ubuntu2204/x86_64  cuda-toolkit-config-common 12.6.77-1 [16.5 kB]\n",
            "Fetched 64.6 MB in 1s (48.6 MB/s)\n",
            "Extracting templates from packages: 100%\n",
            "Preconfiguring packages ...\n",
            "(Reading database ... 123629 files and directories currently installed.)\n",
            "Preparing to unpack .../base-files_12ubuntu4.7_amd64.deb ...\n",
            "Unpacking base-files (12ubuntu4.7) over (12ubuntu4.4) ...\n",
            "Setting up base-files (12ubuntu4.7) ...\n",
            "Installing new version of config file /etc/issue ...\n",
            "Installing new version of config file /etc/issue.net ...\n",
            "Installing new version of config file /etc/lsb-release ...\n",
            "Installing new version of config file /etc/update-motd.d/10-help-text ...\n",
            "(Reading database ... 123629 files and directories currently installed.)\n",
            "Preparing to unpack .../bash_5.1-6ubuntu1.1_amd64.deb ...\n",
            "Unpacking bash (5.1-6ubuntu1.1) over (5.1-6ubuntu1) ...\n",
            "Setting up bash (5.1-6ubuntu1.1) ...\n",
            "update-alternatives: using /usr/share/man/man7/bash-builtins.7.gz to provide /usr/share/man/man7/builtins.7.gz (builtins.7.gz) in auto mode\n",
            "(Reading database ... 123629 files and directories currently installed.)\n",
            "Preparing to unpack .../bsdutils_1%3a2.37.2-4ubuntu3.4_amd64.deb ...\n",
            "Unpacking bsdutils (1:2.37.2-4ubuntu3.4) over (1:2.37.2-4ubuntu3) ...\n",
            "Setting up bsdutils (1:2.37.2-4ubuntu3.4) ...\n",
            "(Reading database ... 123629 files and directories currently installed.)\n",
            "Preparing to unpack .../coreutils_8.32-4.1ubuntu1.2_amd64.deb ...\n",
            "Unpacking coreutils (8.32-4.1ubuntu1.2) over (8.32-4.1ubuntu1) ...\n",
            "Setting up coreutils (8.32-4.1ubuntu1.2) ...\n",
            "(Reading database ... 123629 files and directories currently installed.)\n",
            "Preparing to unpack .../tar_1.34+dfsg-1ubuntu0.1.22.04.2_amd64.deb ...\n",
            "Unpacking tar (1.34+dfsg-1ubuntu0.1.22.04.2) over (1.34+dfsg-1ubuntu0.1.22.04.1) ...\n",
            "Setting up tar (1.34+dfsg-1ubuntu0.1.22.04.2) ...\n",
            "update-alternatives: warning: forcing reinstallation of alternative /usr/sbin/rmt-tar because link group rmt is broken\n",
            "(Reading database ... 123629 files and directories currently installed.)\n",
            "Preparing to unpack .../dpkg_1.21.1ubuntu2.3_amd64.deb ...\n",
            "Unpacking dpkg (1.21.1ubuntu2.3) over (1.21.1ubuntu2.2) ...\n",
            "Setting up dpkg (1.21.1ubuntu2.3) ...\n",
            "(Reading database ... 123629 files and directories currently installed.)\n",
            "Preparing to unpack .../login_1%3a4.8.1-2ubuntu2.2_amd64.deb ...\n",
            "Unpacking login (1:4.8.1-2ubuntu2.2) over (1:4.8.1-2ubuntu2.1) ...\n",
            "Setting up login (1:4.8.1-2ubuntu2.2) ...\n",
            "(Reading database ... 123629 files and directories currently installed.)\n",
            "Preparing to unpack .../libperl5.34_5.34.0-3ubuntu1.3_amd64.deb ...\n",
            "Unpacking libperl5.34:amd64 (5.34.0-3ubuntu1.3) over (5.34.0-3ubuntu1.2) ...\n",
            "Preparing to unpack .../perl_5.34.0-3ubuntu1.3_amd64.deb ...\n",
            "Unpacking perl (5.34.0-3ubuntu1.3) over (5.34.0-3ubuntu1.2) ...\n",
            "Preparing to unpack .../perl-base_5.34.0-3ubuntu1.3_amd64.deb ...\n",
            "Unpacking perl-base (5.34.0-3ubuntu1.3) over (5.34.0-3ubuntu1.2) ...\n",
            "Setting up perl-base (5.34.0-3ubuntu1.3) ...\n",
            "(Reading database ... 123629 files and directories currently installed.)\n",
            "Preparing to unpack .../perl-modules-5.34_5.34.0-3ubuntu1.3_all.deb ...\n",
            "Unpacking perl-modules-5.34 (5.34.0-3ubuntu1.3) over (5.34.0-3ubuntu1.2) ...\n",
            "Preparing to unpack .../util-linux_2.37.2-4ubuntu3.4_amd64.deb ...\n",
            "Unpacking util-linux (2.37.2-4ubuntu3.4) over (2.37.2-4ubuntu3) ...\n",
            "Setting up util-linux (2.37.2-4ubuntu3.4) ...\n",
            "(Reading database ... 123629 files and directories currently installed.)\n",
            "Preparing to unpack .../libc-bin_2.35-0ubuntu3.8_amd64.deb ...\n",
            "Unpacking libc-bin (2.35-0ubuntu3.8) over (2.35-0ubuntu3.4) ...\n",
            "Setting up libc-bin (2.35-0ubuntu3.8) ...\n",
            "/sbin/ldconfig.real: /usr/local/lib/libtbbbind.so.3 is not a symbolic link\n",
            "\n",
            "/sbin/ldconfig.real: /usr/local/lib/libur_adapter_opencl.so.0 is not a symbolic link\n",
            "\n",
            "/sbin/ldconfig.real: /usr/local/lib/libtbb.so.12 is not a symbolic link\n",
            "\n",
            "/sbin/ldconfig.real: /usr/local/lib/libtbbbind_2_5.so.3 is not a symbolic link\n",
            "\n",
            "/sbin/ldconfig.real: /usr/local/lib/libur_adapter_level_zero.so.0 is not a symbolic link\n",
            "\n",
            "/sbin/ldconfig.real: /usr/local/lib/libur_loader.so.0 is not a symbolic link\n",
            "\n",
            "/sbin/ldconfig.real: /usr/local/lib/libtbbmalloc.so.2 is not a symbolic link\n",
            "\n",
            "/sbin/ldconfig.real: /usr/local/lib/libtbbmalloc_proxy.so.2 is not a symbolic link\n",
            "\n",
            "/sbin/ldconfig.real: /usr/local/lib/libtbbbind_2_0.so.3 is not a symbolic link\n",
            "\n",
            "(Reading database ... 123629 files and directories currently installed.)\n",
            "Preparing to unpack .../libpam0g_1.4.0-11ubuntu2.4_amd64.deb ...\n",
            "Unpacking libpam0g:amd64 (1.4.0-11ubuntu2.4) over (1.4.0-11ubuntu2.3) ...\n",
            "Setting up libpam0g:amd64 (1.4.0-11ubuntu2.4) ...\n",
            "(Reading database ... 123629 files and directories currently installed.)\n",
            "Preparing to unpack .../libpam-modules-bin_1.4.0-11ubuntu2.4_amd64.deb ...\n",
            "Unpacking libpam-modules-bin (1.4.0-11ubuntu2.4) over (1.4.0-11ubuntu2.3) ...\n",
            "Setting up libpam-modules-bin (1.4.0-11ubuntu2.4) ...\n",
            "(Reading database ... 123629 files and directories currently installed.)\n",
            "Preparing to unpack .../libpam-modules_1.4.0-11ubuntu2.4_amd64.deb ...\n",
            "Unpacking libpam-modules:amd64 (1.4.0-11ubuntu2.4) over (1.4.0-11ubuntu2.3) ...\n",
            "Setting up libpam-modules:amd64 (1.4.0-11ubuntu2.4) ...\n",
            "(Reading database ... 123629 files and directories currently installed.)\n",
            "Preparing to unpack .../logsave_1.46.5-2ubuntu1.2_amd64.deb ...\n",
            "Unpacking logsave (1.46.5-2ubuntu1.2) over (1.46.5-2ubuntu1.1) ...\n",
            "Preparing to unpack .../libext2fs2_1.46.5-2ubuntu1.2_amd64.deb ...\n",
            "Unpacking libext2fs2:amd64 (1.46.5-2ubuntu1.2) over (1.46.5-2ubuntu1.1) ...\n",
            "Setting up libext2fs2:amd64 (1.46.5-2ubuntu1.2) ...\n",
            "(Reading database ... 123629 files and directories currently installed.)\n",
            "Preparing to unpack .../e2fsprogs_1.46.5-2ubuntu1.2_amd64.deb ...\n",
            "Unpacking e2fsprogs (1.46.5-2ubuntu1.2) over (1.46.5-2ubuntu1.1) ...\n",
            "Preparing to unpack .../mount_2.37.2-4ubuntu3.4_amd64.deb ...\n",
            "Unpacking mount (2.37.2-4ubuntu3.4) over (2.37.2-4ubuntu3) ...\n",
            "Preparing to unpack .../libblkid1_2.37.2-4ubuntu3.4_amd64.deb ...\n",
            "Unpacking libblkid1:amd64 (2.37.2-4ubuntu3.4) over (2.37.2-4ubuntu3) ...\n",
            "Setting up libblkid1:amd64 (2.37.2-4ubuntu3.4) ...\n",
            "(Reading database ... 123629 files and directories currently installed.)\n",
            "Preparing to unpack .../libmount1_2.37.2-4ubuntu3.4_amd64.deb ...\n",
            "Unpacking libmount1:amd64 (2.37.2-4ubuntu3.4) over (2.37.2-4ubuntu3) ...\n",
            "Setting up libmount1:amd64 (2.37.2-4ubuntu3.4) ...\n",
            "(Reading database ... 123629 files and directories currently installed.)\n",
            "Preparing to unpack .../libpam-runtime_1.4.0-11ubuntu2.4_all.deb ...\n",
            "Unpacking libpam-runtime (1.4.0-11ubuntu2.4) over (1.4.0-11ubuntu2.3) ...\n",
            "Setting up libpam-runtime (1.4.0-11ubuntu2.4) ...\n",
            "(Reading database ... 123629 files and directories currently installed.)\n",
            "Preparing to unpack .../libsmartcols1_2.37.2-4ubuntu3.4_amd64.deb ...\n",
            "Unpacking libsmartcols1:amd64 (2.37.2-4ubuntu3.4) over (2.37.2-4ubuntu3) ...\n",
            "Setting up libsmartcols1:amd64 (2.37.2-4ubuntu3.4) ...\n",
            "(Reading database ... 123629 files and directories currently installed.)\n",
            "Preparing to unpack .../libudev1_249.11-0ubuntu3.12_amd64.deb ...\n",
            "Unpacking libudev1:amd64 (249.11-0ubuntu3.12) over (249.11-0ubuntu3.10) ...\n",
            "Setting up libudev1:amd64 (249.11-0ubuntu3.12) ...\n",
            "(Reading database ... 123629 files and directories currently installed.)\n",
            "Preparing to unpack .../passwd_1%3a4.8.1-2ubuntu2.2_amd64.deb ...\n",
            "Unpacking passwd (1:4.8.1-2ubuntu2.2) over (1:4.8.1-2ubuntu2.1) ...\n",
            "Setting up passwd (1:4.8.1-2ubuntu2.2) ...\n",
            "(Reading database ... 123629 files and directories currently installed.)\n",
            "Preparing to unpack .../libgnutls30_3.7.3-4ubuntu1.5_amd64.deb ...\n",
            "Unpacking libgnutls30:amd64 (3.7.3-4ubuntu1.5) over (3.7.3-4ubuntu1.2) ...\n",
            "Setting up libgnutls30:amd64 (3.7.3-4ubuntu1.5) ...\n",
            "(Reading database ... 123629 files and directories currently installed.)\n",
            "Preparing to unpack .../00-libprocps8_2%3a3.3.17-6ubuntu2.1_amd64.deb ...\n",
            "Unpacking libprocps8:amd64 (2:3.3.17-6ubuntu2.1) over (2:3.3.17-6ubuntu2) ...\n",
            "Preparing to unpack .../01-libss2_1.46.5-2ubuntu1.2_amd64.deb ...\n",
            "Unpacking libss2:amd64 (1.46.5-2ubuntu1.2) over (1.46.5-2ubuntu1.1) ...\n",
            "Preparing to unpack .../02-procps_2%3a3.3.17-6ubuntu2.1_amd64.deb ...\n",
            "Unpacking procps (2:3.3.17-6ubuntu2.1) over (2:3.3.17-6ubuntu2) ...\n",
            "Preparing to unpack .../03-openssl_3.0.2-0ubuntu1.18_amd64.deb ...\n",
            "Unpacking openssl (3.0.2-0ubuntu1.18) over (3.0.2-0ubuntu1.12) ...\n",
            "Preparing to unpack .../04-libctf0_2.38-4ubuntu2.6_amd64.deb ...\n",
            "Unpacking libctf0:amd64 (2.38-4ubuntu2.6) over (2.38-4ubuntu2.3) ...\n",
            "Preparing to unpack .../05-libctf-nobfd0_2.38-4ubuntu2.6_amd64.deb ...\n",
            "Unpacking libctf-nobfd0:amd64 (2.38-4ubuntu2.6) over (2.38-4ubuntu2.3) ...\n",
            "Preparing to unpack .../06-binutils-x86-64-linux-gnu_2.38-4ubuntu2.6_amd64.deb ...\n",
            "Unpacking binutils-x86-64-linux-gnu (2.38-4ubuntu2.6) over (2.38-4ubuntu2.3) ...\n",
            "Preparing to unpack .../07-libbinutils_2.38-4ubuntu2.6_amd64.deb ...\n",
            "Unpacking libbinutils:amd64 (2.38-4ubuntu2.6) over (2.38-4ubuntu2.3) ...\n",
            "Preparing to unpack .../08-binutils_2.38-4ubuntu2.6_amd64.deb ...\n",
            "Unpacking binutils (2.38-4ubuntu2.6) over (2.38-4ubuntu2.3) ...\n",
            "Preparing to unpack .../09-binutils-common_2.38-4ubuntu2.6_amd64.deb ...\n",
            "Unpacking binutils-common:amd64 (2.38-4ubuntu2.6) over (2.38-4ubuntu2.3) ...\n",
            "Preparing to unpack .../10-cuda-compat-12-2_535.183.06-1_amd64.deb ...\n",
            "Unpacking cuda-compat-12-2 (535.183.06-1) over (535.129.03-1) ...\n",
            "Preparing to unpack .../11-cuda-keyring_1.1-1_all.deb ...\n",
            "Unpacking cuda-keyring (1.1-1) over (1.0-1) ...\n",
            "Preparing to unpack .../12-cuda-toolkit-12-config-common_12.6.77-1_all.deb ...\n",
            "Unpacking cuda-toolkit-12-config-common (12.6.77-1) over (12.3.52-1) ...\n",
            "Preparing to unpack .../13-cuda-toolkit-config-common_12.6.77-1_all.deb ...\n",
            "Unpacking cuda-toolkit-config-common (12.6.77-1) over (12.3.52-1) ...\n",
            "Preparing to unpack .../14-dpkg-dev_1.21.1ubuntu2.3_all.deb ...\n",
            "Unpacking dpkg-dev (1.21.1ubuntu2.3) over (1.21.1ubuntu2.2) ...\n",
            "Preparing to unpack .../15-libdpkg-perl_1.21.1ubuntu2.3_all.deb ...\n",
            "Unpacking libdpkg-perl (1.21.1ubuntu2.3) over (1.21.1ubuntu2.2) ...\n",
            "Preparing to unpack .../16-libldap-2.5-0_2.5.18+dfsg-0ubuntu0.22.04.2_amd64.deb ...\n",
            "Unpacking libldap-2.5-0:amd64 (2.5.18+dfsg-0ubuntu0.22.04.2) over (2.5.16+dfsg-0ubuntu0.22.04.1) ...\n",
            "Preparing to unpack .../17-linux-libc-dev_5.15.0-124.134_amd64.deb ...\n",
            "Unpacking linux-libc-dev:amd64 (5.15.0-124.134) over (5.15.0-88.98) ...\n",
            "Preparing to unpack .../18-r-cran-matrix_1.7-1-1.ca2204.1_amd64.deb ...\n",
            "Unpacking r-cran-matrix (1.7-1-1.ca2204.1) over (1.7-0-1.ca2204.1) ...\n",
            "Setting up cuda-toolkit-config-common (12.6.77-1) ...\n",
            "Setting up cuda-compat-12-2 (535.183.06-1) ...\n",
            "Setting up binutils-common:amd64 (2.38-4ubuntu2.6) ...\n",
            "Setting up linux-libc-dev:amd64 (5.15.0-124.134) ...\n",
            "Setting up libctf-nobfd0:amd64 (2.38-4ubuntu2.6) ...\n",
            "Setting up perl-modules-5.34 (5.34.0-3ubuntu1.3) ...\n",
            "Setting up libldap-2.5-0:amd64 (2.5.18+dfsg-0ubuntu0.22.04.2) ...\n",
            "Setting up cuda-keyring (1.1-1) ...\n",
            "Setting up libss2:amd64 (1.46.5-2ubuntu1.2) ...\n",
            "Setting up r-cran-matrix (1.7-1-1.ca2204.1) ...\n",
            "Setting up logsave (1.46.5-2ubuntu1.2) ...\n",
            "Setting up mount (2.37.2-4ubuntu3.4) ...\n",
            "Setting up libbinutils:amd64 (2.38-4ubuntu2.6) ...\n",
            "Setting up openssl (3.0.2-0ubuntu1.18) ...\n",
            "Setting up cuda-toolkit-12-config-common (12.6.77-1) ...\n",
            "Setting up libprocps8:amd64 (2:3.3.17-6ubuntu2.1) ...\n",
            "Setting up libctf0:amd64 (2.38-4ubuntu2.6) ...\n",
            "Setting up libperl5.34:amd64 (5.34.0-3ubuntu1.3) ...\n",
            "Setting up e2fsprogs (1.46.5-2ubuntu1.2) ...\n",
            "Setting up perl (5.34.0-3ubuntu1.3) ...\n",
            "Setting up libdpkg-perl (1.21.1ubuntu2.3) ...\n",
            "Setting up procps (2:3.3.17-6ubuntu2.1) ...\n",
            "Setting up binutils-x86-64-linux-gnu (2.38-4ubuntu2.6) ...\n",
            "Setting up binutils (2.38-4ubuntu2.6) ...\n",
            "Setting up dpkg-dev (1.21.1ubuntu2.3) ...\n",
            "Processing triggers for man-db (2.10.2-1) ...\n",
            "Processing triggers for libc-bin (2.35-0ubuntu3.8) ...\n",
            "/sbin/ldconfig.real: /usr/local/lib/libtbbbind.so.3 is not a symbolic link\n",
            "\n",
            "/sbin/ldconfig.real: /usr/local/lib/libur_adapter_opencl.so.0 is not a symbolic link\n",
            "\n",
            "/sbin/ldconfig.real: /usr/local/lib/libtbb.so.12 is not a symbolic link\n",
            "\n",
            "/sbin/ldconfig.real: /usr/local/lib/libtbbbind_2_5.so.3 is not a symbolic link\n",
            "\n",
            "/sbin/ldconfig.real: /usr/local/lib/libur_adapter_level_zero.so.0 is not a symbolic link\n",
            "\n",
            "/sbin/ldconfig.real: /usr/local/lib/libur_loader.so.0 is not a symbolic link\n",
            "\n",
            "/sbin/ldconfig.real: /usr/local/lib/libtbbmalloc.so.2 is not a symbolic link\n",
            "\n",
            "/sbin/ldconfig.real: /usr/local/lib/libtbbmalloc_proxy.so.2 is not a symbolic link\n",
            "\n",
            "/sbin/ldconfig.real: /usr/local/lib/libtbbbind_2_0.so.3 is not a symbolic link\n",
            "\n"
          ]
        }
      ]
    },
    {
      "cell_type": "code",
      "source": [
        "!apt-get install libarchive-dev python3-doc python3-pil.imagetk python-pil-doc libleptonica-dev tesseract-ocr libtesseract-dev python3-pil tesseract-ocr-eng tesseract-ocr-script-latn"
      ],
      "metadata": {
        "colab": {
          "base_uri": "https://localhost:8080/"
        },
        "id": "grxgUWbyJX2S",
        "outputId": "766b9563-95a6-4cef-edec-f47667f66c19"
      },
      "execution_count": 3,
      "outputs": [
        {
          "output_type": "stream",
          "name": "stdout",
          "text": [
            "Reading package lists... Done\n",
            "Building dependency tree... Done\n",
            "Reading state information... Done\n",
            "The following additional packages will be installed:\n",
            "  fonts-font-awesome fonts-lato libimagequant0 libraqm0 python3-olefile python3.10-doc\n",
            "  sphinx-rtd-theme-common tesseract-ocr-osd\n",
            "Suggested packages:\n",
            "  python3-examples\n",
            "The following NEW packages will be installed:\n",
            "  fonts-font-awesome fonts-lato libarchive-dev libimagequant0 libleptonica-dev libraqm0\n",
            "  libtesseract-dev python-pil-doc python3-doc python3-olefile python3-pil python3-pil.imagetk\n",
            "  python3.10-doc sphinx-rtd-theme-common tesseract-ocr tesseract-ocr-eng tesseract-ocr-osd\n",
            "  tesseract-ocr-script-latn\n",
            "0 upgraded, 18 newly installed, 0 to remove and 4 not upgraded.\n",
            "Need to get 55.8 MB of archives.\n",
            "After this operation, 208 MB of additional disk space will be used.\n",
            "Get:1 http://archive.ubuntu.com/ubuntu jammy/main amd64 fonts-lato all 2.0-2.1 [2,696 kB]\n",
            "Get:2 http://archive.ubuntu.com/ubuntu jammy/main amd64 fonts-font-awesome all 5.0.10+really4.7.0~dfsg-4.1 [516 kB]\n",
            "Get:3 http://archive.ubuntu.com/ubuntu jammy-updates/main amd64 libarchive-dev amd64 3.6.0-1ubuntu1.2 [581 kB]\n",
            "Get:4 http://archive.ubuntu.com/ubuntu jammy/main amd64 libimagequant0 amd64 2.17.0-1 [34.6 kB]\n",
            "Get:5 http://archive.ubuntu.com/ubuntu jammy/universe amd64 libleptonica-dev amd64 1.82.0-3build1 [1,562 kB]\n",
            "Get:6 http://archive.ubuntu.com/ubuntu jammy/main amd64 libraqm0 amd64 0.7.0-4ubuntu1 [11.7 kB]\n",
            "Get:7 http://archive.ubuntu.com/ubuntu jammy/universe amd64 libtesseract-dev amd64 4.1.1-2.1build1 [1,600 kB]\n",
            "Get:8 http://archive.ubuntu.com/ubuntu jammy/main amd64 sphinx-rtd-theme-common all 1.0.0+dfsg-1 [991 kB]\n",
            "Get:9 http://archive.ubuntu.com/ubuntu jammy-updates/main amd64 python-pil-doc all 9.0.1-1ubuntu0.3 [631 kB]\n",
            "Get:10 http://archive.ubuntu.com/ubuntu jammy-updates/main amd64 python3.10-doc all 3.10.12-1~22.04.6 [11.0 MB]\n",
            "Get:11 http://archive.ubuntu.com/ubuntu jammy-updates/main amd64 python3-doc all 3.10.6-1~22.04.1 [7,028 B]\n",
            "Get:12 http://archive.ubuntu.com/ubuntu jammy/main amd64 python3-olefile all 0.46-3 [33.8 kB]\n",
            "Get:13 http://archive.ubuntu.com/ubuntu jammy-updates/universe amd64 python3-pil.imagetk amd64 9.0.1-1ubuntu0.3 [9,616 B]\n",
            "Get:14 http://archive.ubuntu.com/ubuntu jammy-updates/main amd64 python3-pil amd64 9.0.1-1ubuntu0.3 [419 kB]\n",
            "Get:15 http://archive.ubuntu.com/ubuntu jammy/universe amd64 tesseract-ocr-eng all 1:4.00~git30-7274cfa-1.1 [1,591 kB]\n",
            "Get:16 http://archive.ubuntu.com/ubuntu jammy/universe amd64 tesseract-ocr-osd all 1:4.00~git30-7274cfa-1.1 [2,990 kB]\n",
            "Get:17 http://archive.ubuntu.com/ubuntu jammy/universe amd64 tesseract-ocr amd64 4.1.1-2.1build1 [236 kB]\n",
            "Get:18 http://archive.ubuntu.com/ubuntu jammy/universe amd64 tesseract-ocr-script-latn all 1:4.00~git30-7274cfa-1.1 [30.9 MB]\n",
            "Fetched 55.8 MB in 1s (72.9 MB/s)\n",
            "Selecting previously unselected package fonts-lato.\n",
            "(Reading database ... 123621 files and directories currently installed.)\n",
            "Preparing to unpack .../00-fonts-lato_2.0-2.1_all.deb ...\n",
            "Unpacking fonts-lato (2.0-2.1) ...\n",
            "Selecting previously unselected package fonts-font-awesome.\n",
            "Preparing to unpack .../01-fonts-font-awesome_5.0.10+really4.7.0~dfsg-4.1_all.deb ...\n",
            "Unpacking fonts-font-awesome (5.0.10+really4.7.0~dfsg-4.1) ...\n",
            "Selecting previously unselected package libarchive-dev:amd64.\n",
            "Preparing to unpack .../02-libarchive-dev_3.6.0-1ubuntu1.2_amd64.deb ...\n",
            "Unpacking libarchive-dev:amd64 (3.6.0-1ubuntu1.2) ...\n",
            "Selecting previously unselected package libimagequant0:amd64.\n",
            "Preparing to unpack .../03-libimagequant0_2.17.0-1_amd64.deb ...\n",
            "Unpacking libimagequant0:amd64 (2.17.0-1) ...\n",
            "Selecting previously unselected package libleptonica-dev.\n",
            "Preparing to unpack .../04-libleptonica-dev_1.82.0-3build1_amd64.deb ...\n",
            "Unpacking libleptonica-dev (1.82.0-3build1) ...\n",
            "Selecting previously unselected package libraqm0:amd64.\n",
            "Preparing to unpack .../05-libraqm0_0.7.0-4ubuntu1_amd64.deb ...\n",
            "Unpacking libraqm0:amd64 (0.7.0-4ubuntu1) ...\n",
            "Selecting previously unselected package libtesseract-dev:amd64.\n",
            "Preparing to unpack .../06-libtesseract-dev_4.1.1-2.1build1_amd64.deb ...\n",
            "Unpacking libtesseract-dev:amd64 (4.1.1-2.1build1) ...\n",
            "Selecting previously unselected package sphinx-rtd-theme-common.\n",
            "Preparing to unpack .../07-sphinx-rtd-theme-common_1.0.0+dfsg-1_all.deb ...\n",
            "Unpacking sphinx-rtd-theme-common (1.0.0+dfsg-1) ...\n",
            "Selecting previously unselected package python-pil-doc.\n",
            "Preparing to unpack .../08-python-pil-doc_9.0.1-1ubuntu0.3_all.deb ...\n",
            "Unpacking python-pil-doc (9.0.1-1ubuntu0.3) ...\n",
            "Selecting previously unselected package python3.10-doc.\n",
            "Preparing to unpack .../09-python3.10-doc_3.10.12-1~22.04.6_all.deb ...\n",
            "Unpacking python3.10-doc (3.10.12-1~22.04.6) ...\n",
            "Selecting previously unselected package python3-doc.\n",
            "Preparing to unpack .../10-python3-doc_3.10.6-1~22.04.1_all.deb ...\n",
            "Unpacking python3-doc (3.10.6-1~22.04.1) ...\n",
            "Selecting previously unselected package python3-olefile.\n",
            "Preparing to unpack .../11-python3-olefile_0.46-3_all.deb ...\n",
            "Unpacking python3-olefile (0.46-3) ...\n",
            "Selecting previously unselected package python3-pil.imagetk:amd64.\n",
            "Preparing to unpack .../12-python3-pil.imagetk_9.0.1-1ubuntu0.3_amd64.deb ...\n",
            "Unpacking python3-pil.imagetk:amd64 (9.0.1-1ubuntu0.3) ...\n",
            "Selecting previously unselected package python3-pil:amd64.\n",
            "Preparing to unpack .../13-python3-pil_9.0.1-1ubuntu0.3_amd64.deb ...\n",
            "Unpacking python3-pil:amd64 (9.0.1-1ubuntu0.3) ...\n",
            "Selecting previously unselected package tesseract-ocr-eng.\n",
            "Preparing to unpack .../14-tesseract-ocr-eng_1%3a4.00~git30-7274cfa-1.1_all.deb ...\n",
            "Unpacking tesseract-ocr-eng (1:4.00~git30-7274cfa-1.1) ...\n",
            "Selecting previously unselected package tesseract-ocr-osd.\n",
            "Preparing to unpack .../15-tesseract-ocr-osd_1%3a4.00~git30-7274cfa-1.1_all.deb ...\n",
            "Unpacking tesseract-ocr-osd (1:4.00~git30-7274cfa-1.1) ...\n",
            "Selecting previously unselected package tesseract-ocr.\n",
            "Preparing to unpack .../16-tesseract-ocr_4.1.1-2.1build1_amd64.deb ...\n",
            "Unpacking tesseract-ocr (4.1.1-2.1build1) ...\n",
            "Selecting previously unselected package tesseract-ocr-script-latn.\n",
            "Preparing to unpack .../17-tesseract-ocr-script-latn_1%3a4.00~git30-7274cfa-1.1_all.deb ...\n",
            "Unpacking tesseract-ocr-script-latn (1:4.00~git30-7274cfa-1.1) ...\n",
            "Setting up fonts-lato (2.0-2.1) ...\n",
            "Setting up tesseract-ocr-script-latn (1:4.00~git30-7274cfa-1.1) ...\n",
            "Setting up python3-olefile (0.46-3) ...\n",
            "Setting up tesseract-ocr-eng (1:4.00~git30-7274cfa-1.1) ...\n",
            "Setting up libleptonica-dev (1.82.0-3build1) ...\n",
            "Setting up python3.10-doc (3.10.12-1~22.04.6) ...\n",
            "Setting up libraqm0:amd64 (0.7.0-4ubuntu1) ...\n",
            "Setting up libimagequant0:amd64 (2.17.0-1) ...\n",
            "Setting up libarchive-dev:amd64 (3.6.0-1ubuntu1.2) ...\n",
            "Setting up tesseract-ocr-osd (1:4.00~git30-7274cfa-1.1) ...\n",
            "Setting up fonts-font-awesome (5.0.10+really4.7.0~dfsg-4.1) ...\n",
            "Setting up sphinx-rtd-theme-common (1.0.0+dfsg-1) ...\n",
            "Setting up python3-doc (3.10.6-1~22.04.1) ...\n",
            "Setting up libtesseract-dev:amd64 (4.1.1-2.1build1) ...\n",
            "Setting up tesseract-ocr (4.1.1-2.1build1) ...\n",
            "Setting up python-pil-doc (9.0.1-1ubuntu0.3) ...\n",
            "Setting up python3-pil:amd64 (9.0.1-1ubuntu0.3) ...\n",
            "Setting up python3-pil.imagetk:amd64 (9.0.1-1ubuntu0.3) ...\n",
            "Processing triggers for fontconfig (2.13.1-4.2ubuntu5) ...\n",
            "Processing triggers for libc-bin (2.35-0ubuntu3.8) ...\n",
            "/sbin/ldconfig.real: /usr/local/lib/libtbbbind.so.3 is not a symbolic link\n",
            "\n",
            "/sbin/ldconfig.real: /usr/local/lib/libur_adapter_opencl.so.0 is not a symbolic link\n",
            "\n",
            "/sbin/ldconfig.real: /usr/local/lib/libtbb.so.12 is not a symbolic link\n",
            "\n",
            "/sbin/ldconfig.real: /usr/local/lib/libtbbbind_2_5.so.3 is not a symbolic link\n",
            "\n",
            "/sbin/ldconfig.real: /usr/local/lib/libur_adapter_level_zero.so.0 is not a symbolic link\n",
            "\n",
            "/sbin/ldconfig.real: /usr/local/lib/libur_loader.so.0 is not a symbolic link\n",
            "\n",
            "/sbin/ldconfig.real: /usr/local/lib/libtbbmalloc.so.2 is not a symbolic link\n",
            "\n",
            "/sbin/ldconfig.real: /usr/local/lib/libtbbmalloc_proxy.so.2 is not a symbolic link\n",
            "\n",
            "/sbin/ldconfig.real: /usr/local/lib/libtbbbind_2_0.so.3 is not a symbolic link\n",
            "\n",
            "Processing triggers for man-db (2.10.2-1) ...\n"
          ]
        }
      ]
    },
    {
      "cell_type": "code",
      "source": [
        "!apt-get install libomp-dev"
      ],
      "metadata": {
        "colab": {
          "base_uri": "https://localhost:8080/"
        },
        "id": "hzkg9VoDSTr7",
        "outputId": "c3090f80-e5fb-42b9-8959-e04c44254d40"
      },
      "execution_count": 4,
      "outputs": [
        {
          "output_type": "stream",
          "name": "stdout",
          "text": [
            "Reading package lists... Done\n",
            "Building dependency tree... Done\n",
            "Reading state information... Done\n",
            "The following additional packages will be installed:\n",
            "  libomp-14-dev libomp5-14\n",
            "Suggested packages:\n",
            "  libomp-14-doc\n",
            "The following NEW packages will be installed:\n",
            "  libomp-14-dev libomp-dev libomp5-14\n",
            "0 upgraded, 3 newly installed, 0 to remove and 4 not upgraded.\n",
            "Need to get 738 kB of archives.\n",
            "After this operation, 8,991 kB of additional disk space will be used.\n",
            "Get:1 http://archive.ubuntu.com/ubuntu jammy-updates/universe amd64 libomp5-14 amd64 1:14.0.0-1ubuntu1.1 [389 kB]\n",
            "Get:2 http://archive.ubuntu.com/ubuntu jammy-updates/universe amd64 libomp-14-dev amd64 1:14.0.0-1ubuntu1.1 [347 kB]\n",
            "Get:3 http://archive.ubuntu.com/ubuntu jammy/universe amd64 libomp-dev amd64 1:14.0-55~exp2 [3,074 B]\n",
            "Fetched 738 kB in 1s (993 kB/s)\n",
            "Selecting previously unselected package libomp5-14:amd64.\n",
            "(Reading database ... 125510 files and directories currently installed.)\n",
            "Preparing to unpack .../libomp5-14_1%3a14.0.0-1ubuntu1.1_amd64.deb ...\n",
            "Unpacking libomp5-14:amd64 (1:14.0.0-1ubuntu1.1) ...\n",
            "Selecting previously unselected package libomp-14-dev.\n",
            "Preparing to unpack .../libomp-14-dev_1%3a14.0.0-1ubuntu1.1_amd64.deb ...\n",
            "Unpacking libomp-14-dev (1:14.0.0-1ubuntu1.1) ...\n",
            "Selecting previously unselected package libomp-dev:amd64.\n",
            "Preparing to unpack .../libomp-dev_1%3a14.0-55~exp2_amd64.deb ...\n",
            "Unpacking libomp-dev:amd64 (1:14.0-55~exp2) ...\n",
            "Setting up libomp5-14:amd64 (1:14.0.0-1ubuntu1.1) ...\n",
            "Setting up libomp-14-dev (1:14.0.0-1ubuntu1.1) ...\n",
            "Setting up libomp-dev:amd64 (1:14.0-55~exp2) ...\n",
            "Processing triggers for libc-bin (2.35-0ubuntu3.8) ...\n",
            "/sbin/ldconfig.real: /usr/local/lib/libtbbbind.so.3 is not a symbolic link\n",
            "\n",
            "/sbin/ldconfig.real: /usr/local/lib/libur_adapter_opencl.so.0 is not a symbolic link\n",
            "\n",
            "/sbin/ldconfig.real: /usr/local/lib/libtbb.so.12 is not a symbolic link\n",
            "\n",
            "/sbin/ldconfig.real: /usr/local/lib/libtbbbind_2_5.so.3 is not a symbolic link\n",
            "\n",
            "/sbin/ldconfig.real: /usr/local/lib/libur_adapter_level_zero.so.0 is not a symbolic link\n",
            "\n",
            "/sbin/ldconfig.real: /usr/local/lib/libur_loader.so.0 is not a symbolic link\n",
            "\n",
            "/sbin/ldconfig.real: /usr/local/lib/libtbbmalloc.so.2 is not a symbolic link\n",
            "\n",
            "/sbin/ldconfig.real: /usr/local/lib/libtbbmalloc_proxy.so.2 is not a symbolic link\n",
            "\n",
            "/sbin/ldconfig.real: /usr/local/lib/libtbbbind_2_0.so.3 is not a symbolic link\n",
            "\n"
          ]
        }
      ]
    },
    {
      "cell_type": "code",
      "source": [
        "!apt-get --fix-missing install"
      ],
      "metadata": {
        "colab": {
          "base_uri": "https://localhost:8080/"
        },
        "id": "s45Pj-XsKraN",
        "outputId": "4cbc531f-482f-4126-e2ac-962c36820d88"
      },
      "execution_count": 5,
      "outputs": [
        {
          "output_type": "stream",
          "name": "stdout",
          "text": [
            "Reading package lists... Done\n",
            "Building dependency tree... Done\n",
            "Reading state information... Done\n",
            "0 upgraded, 0 newly installed, 0 to remove and 4 not upgraded.\n"
          ]
        }
      ]
    },
    {
      "cell_type": "code",
      "source": [
        "!apt-get --fix-broken install"
      ],
      "metadata": {
        "colab": {
          "base_uri": "https://localhost:8080/"
        },
        "id": "5rdBRmNWKVPR",
        "outputId": "fae7b489-bfe3-4abd-b971-3a39c6035c98"
      },
      "execution_count": 6,
      "outputs": [
        {
          "output_type": "stream",
          "name": "stdout",
          "text": [
            "Reading package lists... Done\n",
            "Building dependency tree... Done\n",
            "Reading state information... Done\n",
            "0 upgraded, 0 newly installed, 0 to remove and 4 not upgraded.\n"
          ]
        }
      ]
    },
    {
      "cell_type": "code",
      "source": [
        "!apt-get install poppler-utils"
      ],
      "metadata": {
        "colab": {
          "base_uri": "https://localhost:8080/"
        },
        "id": "_CQWpuzBGUXe",
        "outputId": "720eee91-8a61-478d-e7b8-add4c0424c11"
      },
      "execution_count": 7,
      "outputs": [
        {
          "output_type": "stream",
          "name": "stdout",
          "text": [
            "Reading package lists... Done\n",
            "Building dependency tree... Done\n",
            "Reading state information... Done\n",
            "The following NEW packages will be installed:\n",
            "  poppler-utils\n",
            "0 upgraded, 1 newly installed, 0 to remove and 4 not upgraded.\n",
            "Need to get 186 kB of archives.\n",
            "After this operation, 696 kB of additional disk space will be used.\n",
            "Get:1 http://archive.ubuntu.com/ubuntu jammy-updates/main amd64 poppler-utils amd64 22.02.0-2ubuntu0.5 [186 kB]\n",
            "Fetched 186 kB in 0s (373 kB/s)\n",
            "Selecting previously unselected package poppler-utils.\n",
            "(Reading database ... 125571 files and directories currently installed.)\n",
            "Preparing to unpack .../poppler-utils_22.02.0-2ubuntu0.5_amd64.deb ...\n",
            "Unpacking poppler-utils (22.02.0-2ubuntu0.5) ...\n",
            "Setting up poppler-utils (22.02.0-2ubuntu0.5) ...\n",
            "Processing triggers for man-db (2.10.2-1) ...\n"
          ]
        }
      ]
    },
    {
      "cell_type": "code",
      "source": [
        "!apt-get clean"
      ],
      "metadata": {
        "id": "Yog5TMfNBxkN"
      },
      "execution_count": 8,
      "outputs": []
    },
    {
      "cell_type": "markdown",
      "source": [
        "## 1.2 Install Python Requirements"
      ],
      "metadata": {
        "id": "zzfEah0LbmMc"
      }
    },
    {
      "cell_type": "code",
      "source": [
        "!rm requirements.txt"
      ],
      "metadata": {
        "colab": {
          "base_uri": "https://localhost:8080/"
        },
        "id": "qpyNCXFmO_Bd",
        "outputId": "6c3dce7b-2eea-4158-831e-4035d76b0d58"
      },
      "execution_count": 9,
      "outputs": [
        {
          "output_type": "stream",
          "name": "stdout",
          "text": [
            "rm: cannot remove 'requirements.txt': No such file or directory\n"
          ]
        }
      ]
    },
    {
      "cell_type": "code",
      "source": [
        "!curl -H \"Cache-Control: no-cache, no-store\" \"https://raw.githubusercontent.com/ckabelin/daai/refs/heads/main/requirements-slim.txt\" > requirements.txt"
      ],
      "metadata": {
        "colab": {
          "base_uri": "https://localhost:8080/"
        },
        "id": "EbqhzIChLJ5Y",
        "outputId": "19a0d140-6662-4da1-9685-99e7480475c7"
      },
      "execution_count": 10,
      "outputs": [
        {
          "output_type": "stream",
          "name": "stdout",
          "text": [
            "  % Total    % Received % Xferd  Average Speed   Time    Time     Time  Current\n",
            "                                 Dload  Upload   Total   Spent    Left  Speed\n",
            "100  1133  100  1133    0     0   3945      0 --:--:-- --:--:-- --:--:--  3947\n"
          ]
        }
      ]
    },
    {
      "cell_type": "code",
      "source": [
        "!pip install --upgrade --quiet pip"
      ],
      "metadata": {
        "colab": {
          "base_uri": "https://localhost:8080/"
        },
        "id": "FMcDV9DbNaK4",
        "outputId": "564ab801-50f0-4e1c-c8d4-9c6d64b04356"
      },
      "execution_count": 11,
      "outputs": [
        {
          "output_type": "stream",
          "name": "stdout",
          "text": [
            "\u001b[?25l   \u001b[90m━━━━━━━━━━━━━━━━━━━━━━━━━━━━━━━━━━━━━━━━\u001b[0m \u001b[32m0.0/1.8 MB\u001b[0m \u001b[31m?\u001b[0m eta \u001b[36m-:--:--\u001b[0m\r\u001b[2K   \u001b[91m━━━━━━━━━━━━━━━━━━━━━━━━━━━━━━━━━━\u001b[0m\u001b[90m╺\u001b[0m\u001b[90m━━━━━\u001b[0m \u001b[32m1.5/1.8 MB\u001b[0m \u001b[31m46.5 MB/s\u001b[0m eta \u001b[36m0:00:01\u001b[0m\r\u001b[2K   \u001b[90m━━━━━━━━━━━━━━━━━━━━━━━━━━━━━━━━━━━━━━━━\u001b[0m \u001b[32m1.8/1.8 MB\u001b[0m \u001b[31m32.4 MB/s\u001b[0m eta \u001b[36m0:00:00\u001b[0m\n",
            "\u001b[?25h"
          ]
        }
      ]
    },
    {
      "cell_type": "code",
      "source": [
        "!pip install --upgrade --quiet -r requirements.txt"
      ],
      "metadata": {
        "id": "CJf8Xn1oQ5Qr",
        "colab": {
          "base_uri": "https://localhost:8080/"
        },
        "outputId": "8c38aa9d-69e5-4bc7-f3f8-9381eeef6770"
      },
      "execution_count": 12,
      "outputs": [
        {
          "output_type": "stream",
          "name": "stdout",
          "text": [
            "  Preparing metadata (setup.py) ... \u001b[?25l\u001b[?25hdone\n",
            "  Preparing metadata (setup.py) ... \u001b[?25l\u001b[?25hdone\n",
            "\u001b[2K     \u001b[90m━━━━━━━━━━━━━━━━━━━━━━━━━━━━━━━━━━━━━━━━\u001b[0m \u001b[32m981.5/981.5 kB\u001b[0m \u001b[31m27.2 MB/s\u001b[0m eta \u001b[36m0:00:00\u001b[0m\n",
            "\u001b[?25h  Preparing metadata (setup.py) ... \u001b[?25l\u001b[?25hdone\n",
            "  Preparing metadata (setup.py) ... \u001b[?25l\u001b[?25hdone\n",
            "  Preparing metadata (setup.py) ... \u001b[?25l\u001b[?25hdone\n",
            "  Preparing metadata (setup.py) ... \u001b[?25l\u001b[?25hdone\n",
            "  Preparing metadata (setup.py) ... \u001b[?25l\u001b[?25hdone\n",
            "\u001b[2K   \u001b[90m━━━━━━━━━━━━━━━━━━━━━━━━━━━━━━━━━━━━━━━━\u001b[0m \u001b[32m797.2/797.2 MB\u001b[0m \u001b[31m15.1 MB/s\u001b[0m eta \u001b[36m0:00:00\u001b[0m\n",
            "\u001b[2K   \u001b[90m━━━━━━━━━━━━━━━━━━━━━━━━━━━━━━━━━━━━━━━━\u001b[0m \u001b[32m3.4/3.4 MB\u001b[0m \u001b[31m86.2 MB/s\u001b[0m eta \u001b[36m0:00:00\u001b[0m\n",
            "\u001b[2K   \u001b[90m━━━━━━━━━━━━━━━━━━━━━━━━━━━━━━━━━━━━━━━━\u001b[0m \u001b[32m7.0/7.0 MB\u001b[0m \u001b[31m101.8 MB/s\u001b[0m eta \u001b[36m0:00:00\u001b[0m\n",
            "\u001b[2K   \u001b[90m━━━━━━━━━━━━━━━━━━━━━━━━━━━━━━━━━━━━━━━━\u001b[0m \u001b[32m410.6/410.6 MB\u001b[0m \u001b[31m56.9 MB/s\u001b[0m eta \u001b[36m0:00:00\u001b[0m\n",
            "\u001b[2K   \u001b[90m━━━━━━━━━━━━━━━━━━━━━━━━━━━━━━━━━━━━━━━━\u001b[0m \u001b[32m14.1/14.1 MB\u001b[0m \u001b[31m60.9 MB/s\u001b[0m eta \u001b[36m0:00:00\u001b[0m\n",
            "\u001b[2K   \u001b[90m━━━━━━━━━━━━━━━━━━━━━━━━━━━━━━━━━━━━━━━━\u001b[0m \u001b[32m23.7/23.7 MB\u001b[0m \u001b[31m132.6 MB/s\u001b[0m eta \u001b[36m0:00:00\u001b[0m\n",
            "\u001b[2K   \u001b[90m━━━━━━━━━━━━━━━━━━━━━━━━━━━━━━━━━━━━━━━━\u001b[0m \u001b[32m823.6/823.6 kB\u001b[0m \u001b[31m31.7 MB/s\u001b[0m eta \u001b[36m0:00:00\u001b[0m\n",
            "\u001b[2K   \u001b[90m━━━━━━━━━━━━━━━━━━━━━━━━━━━━━━━━━━━━━━━━\u001b[0m \u001b[32m664.8/664.8 MB\u001b[0m \u001b[31m45.6 MB/s\u001b[0m eta \u001b[36m0:00:00\u001b[0m\n",
            "\u001b[2K   \u001b[90m━━━━━━━━━━━━━━━━━━━━━━━━━━━━━━━━━━━━━━━━\u001b[0m \u001b[32m121.6/121.6 MB\u001b[0m \u001b[31m64.0 MB/s\u001b[0m eta \u001b[36m0:00:00\u001b[0m\n",
            "\u001b[2K   \u001b[90m━━━━━━━━━━━━━━━━━━━━━━━━━━━━━━━━━━━━━━━━\u001b[0m \u001b[32m56.5/56.5 MB\u001b[0m \u001b[31m56.3 MB/s\u001b[0m eta \u001b[36m0:00:00\u001b[0m\n",
            "\u001b[2K   \u001b[90m━━━━━━━━━━━━━━━━━━━━━━━━━━━━━━━━━━━━━━━━\u001b[0m \u001b[32m124.2/124.2 MB\u001b[0m \u001b[31m56.8 MB/s\u001b[0m eta \u001b[36m0:00:00\u001b[0m\n",
            "\u001b[2K   \u001b[90m━━━━━━━━━━━━━━━━━━━━━━━━━━━━━━━━━━━━━━━━\u001b[0m \u001b[32m196.0/196.0 MB\u001b[0m \u001b[31m68.7 MB/s\u001b[0m eta \u001b[36m0:00:00\u001b[0m\n",
            "\u001b[2K   \u001b[90m━━━━━━━━━━━━━━━━━━━━━━━━━━━━━━━━━━━━━━━━\u001b[0m \u001b[32m176.2/176.2 MB\u001b[0m \u001b[31m63.0 MB/s\u001b[0m eta \u001b[36m0:00:00\u001b[0m\n",
            "\u001b[2K   \u001b[90m━━━━━━━━━━━━━━━━━━━━━━━━━━━━━━━━━━━━━━━━\u001b[0m \u001b[32m209.4/209.4 MB\u001b[0m \u001b[31m64.9 MB/s\u001b[0m eta \u001b[36m0:00:00\u001b[0m\n",
            "\u001b[2K   \u001b[90m━━━━━━━━━━━━━━━━━━━━━━━━━━━━━━━━━━━━━━━━\u001b[0m \u001b[32m1.2/1.2 MB\u001b[0m \u001b[31m35.6 MB/s\u001b[0m eta \u001b[36m0:00:00\u001b[0m\n",
            "\u001b[2K   \u001b[90m━━━━━━━━━━━━━━━━━━━━━━━━━━━━━━━━━━━━━━━━\u001b[0m \u001b[32m1.0/1.0 MB\u001b[0m \u001b[31m35.8 MB/s\u001b[0m eta \u001b[36m0:00:00\u001b[0m\n",
            "\u001b[2K   \u001b[90m━━━━━━━━━━━━━━━━━━━━━━━━━━━━━━━━━━━━━━━━\u001b[0m \u001b[32m1.2/1.2 MB\u001b[0m \u001b[31m44.3 MB/s\u001b[0m eta \u001b[36m0:00:00\u001b[0m\n",
            "\u001b[2K   \u001b[90m━━━━━━━━━━━━━━━━━━━━━━━━━━━━━━━━━━━━━━━━\u001b[0m \u001b[32m737.4/737.4 kB\u001b[0m \u001b[31m26.9 MB/s\u001b[0m eta \u001b[36m0:00:00\u001b[0m\n",
            "\u001b[2K   \u001b[90m━━━━━━━━━━━━━━━━━━━━━━━━━━━━━━━━━━━━━━━━\u001b[0m \u001b[32m1.7/1.7 MB\u001b[0m \u001b[31m59.3 MB/s\u001b[0m eta \u001b[36m0:00:00\u001b[0m\n",
            "\u001b[2K   \u001b[90m━━━━━━━━━━━━━━━━━━━━━━━━━━━━━━━━━━━━━━━━\u001b[0m \u001b[32m32.2/32.2 MB\u001b[0m \u001b[31m122.6 MB/s\u001b[0m eta \u001b[36m0:00:00\u001b[0m\n",
            "\u001b[2K   \u001b[90m━━━━━━━━━━━━━━━━━━━━━━━━━━━━━━━━━━━━━━━━\u001b[0m \u001b[32m13.1/13.1 MB\u001b[0m \u001b[31m142.2 MB/s\u001b[0m eta \u001b[36m0:00:00\u001b[0m\n",
            "\u001b[2K   \u001b[90m━━━━━━━━━━━━━━━━━━━━━━━━━━━━━━━━━━━━━━━━\u001b[0m \u001b[32m542.0/542.0 kB\u001b[0m \u001b[31m16.2 MB/s\u001b[0m eta \u001b[36m0:00:00\u001b[0m\n",
            "\u001b[2K   \u001b[90m━━━━━━━━━━━━━━━━━━━━━━━━━━━━━━━━━━━━━━━━\u001b[0m \u001b[32m9.9/9.9 MB\u001b[0m \u001b[31m123.4 MB/s\u001b[0m eta \u001b[36m0:00:00\u001b[0m\n",
            "\u001b[2K   \u001b[90m━━━━━━━━━━━━━━━━━━━━━━━━━━━━━━━━━━━━━━━━\u001b[0m \u001b[32m122.4/122.4 MB\u001b[0m \u001b[31m53.6 MB/s\u001b[0m eta \u001b[36m0:00:00\u001b[0m\n",
            "\u001b[2K   \u001b[90m━━━━━━━━━━━━━━━━━━━━━━━━━━━━━━━━━━━━━━━━\u001b[0m \u001b[32m27.5/27.5 MB\u001b[0m \u001b[31m67.2 MB/s\u001b[0m eta \u001b[36m0:00:00\u001b[0m\n",
            "\u001b[2K   \u001b[90m━━━━━━━━━━━━━━━━━━━━━━━━━━━━━━━━━━━━━━━━\u001b[0m \u001b[32m989.0/989.0 kB\u001b[0m \u001b[31m34.4 MB/s\u001b[0m eta \u001b[36m0:00:00\u001b[0m\n",
            "\u001b[2K   \u001b[90m━━━━━━━━━━━━━━━━━━━━━━━━━━━━━━━━━━━━━━━━\u001b[0m \u001b[32m2.4/2.4 MB\u001b[0m \u001b[31m71.8 MB/s\u001b[0m eta \u001b[36m0:00:00\u001b[0m\n",
            "\u001b[2K   \u001b[90m━━━━━━━━━━━━━━━━━━━━━━━━━━━━━━━━━━━━━━━━\u001b[0m \u001b[32m13.2/13.2 MB\u001b[0m \u001b[31m142.8 MB/s\u001b[0m eta \u001b[36m0:00:00\u001b[0m\n",
            "\u001b[2K   \u001b[90m━━━━━━━━━━━━━━━━━━━━━━━━━━━━━━━━━━━━━━━━\u001b[0m \u001b[32m1.4/1.4 MB\u001b[0m \u001b[31m51.7 MB/s\u001b[0m eta \u001b[36m0:00:00\u001b[0m\n",
            "\u001b[2K   \u001b[90m━━━━━━━━━━━━━━━━━━━━━━━━━━━━━━━━━━━━━━━━\u001b[0m \u001b[32m1.2/1.2 MB\u001b[0m \u001b[31m43.9 MB/s\u001b[0m eta \u001b[36m0:00:00\u001b[0m\n",
            "\u001b[2K   \u001b[90m━━━━━━━━━━━━━━━━━━━━━━━━━━━━━━━━━━━━━━━━\u001b[0m \u001b[32m3.0/3.0 MB\u001b[0m \u001b[31m96.7 MB/s\u001b[0m eta \u001b[36m0:00:00\u001b[0m\n",
            "\u001b[2K   \u001b[90m━━━━━━━━━━━━━━━━━━━━━━━━━━━━━━━━━━━━━━━━\u001b[0m \u001b[32m3.8/3.8 MB\u001b[0m \u001b[31m107.3 MB/s\u001b[0m eta \u001b[36m0:00:00\u001b[0m\n",
            "\u001b[2K   \u001b[90m━━━━━━━━━━━━━━━━━━━━━━━━━━━━━━━━━━━━━━━━\u001b[0m \u001b[32m586.9/586.9 kB\u001b[0m \u001b[31m21.5 MB/s\u001b[0m eta \u001b[36m0:00:00\u001b[0m\n",
            "\u001b[2K   \u001b[90m━━━━━━━━━━━━━━━━━━━━━━━━━━━━━━━━━━━━━━━━\u001b[0m \u001b[32m19.2/19.2 MB\u001b[0m \u001b[31m143.9 MB/s\u001b[0m eta \u001b[36m0:00:00\u001b[0m\n",
            "\u001b[2K   \u001b[90m━━━━━━━━━━━━━━━━━━━━━━━━━━━━━━━━━━━━━━━━\u001b[0m \u001b[32m16.0/16.0 MB\u001b[0m \u001b[31m150.3 MB/s\u001b[0m eta \u001b[36m0:00:00\u001b[0m\n",
            "\u001b[2K   \u001b[90m━━━━━━━━━━━━━━━━━━━━━━━━━━━━━━━━━━━━━━━━\u001b[0m \u001b[32m3.1/3.1 MB\u001b[0m \u001b[31m91.5 MB/s\u001b[0m eta \u001b[36m0:00:00\u001b[0m\n",
            "\u001b[2K   \u001b[90m━━━━━━━━━━━━━━━━━━━━━━━━━━━━━━━━━━━━━━━━\u001b[0m \u001b[32m5.6/5.6 MB\u001b[0m \u001b[31m107.5 MB/s\u001b[0m eta \u001b[36m0:00:00\u001b[0m\n",
            "\u001b[2K   \u001b[90m━━━━━━━━━━━━━━━━━━━━━━━━━━━━━━━━━━━━━━━━\u001b[0m \u001b[32m2.8/2.8 MB\u001b[0m \u001b[31m86.0 MB/s\u001b[0m eta \u001b[36m0:00:00\u001b[0m\n",
            "\u001b[2K   \u001b[90m━━━━━━━━━━━━━━━━━━━━━━━━━━━━━━━━━━━━━━━━\u001b[0m \u001b[32m722.2/722.2 kB\u001b[0m \u001b[31m28.7 MB/s\u001b[0m eta \u001b[36m0:00:00\u001b[0m\n",
            "\u001b[?25h  Building wheel for pathtools (setup.py) ... \u001b[?25l\u001b[?25hdone\n",
            "  Building wheel for google-search-results (setup.py) ... \u001b[?25l\u001b[?25hdone\n",
            "  Building wheel for pybars4 (setup.py) ... \u001b[?25l\u001b[?25hdone\n",
            "  Building wheel for docxcompose (setup.py) ... \u001b[?25l\u001b[?25hdone\n",
            "  Building wheel for langdetect (setup.py) ... \u001b[?25l\u001b[?25hdone\n",
            "  Building wheel for PyMeta3 (setup.py) ... \u001b[?25l\u001b[?25hdone\n",
            "  Building wheel for iopath (setup.py) ... \u001b[?25l\u001b[?25hdone\n",
            "\u001b[31mERROR: pip's dependency resolver does not currently take into account all the packages that are installed. This behaviour is the source of the following dependency conflicts.\n",
            "ipython 7.34.0 requires jedi>=0.16, which is not installed.\n",
            "cudf-cu12 24.10.1 requires pandas<2.2.3dev0,>=2.0, but you have pandas 2.2.3 which is incompatible.\n",
            "gcsfs 2024.6.1 requires fsspec==2024.6.1, but you have fsspec 2024.3.1 which is incompatible.\n",
            "google-colab 1.0.0 requires pandas==2.2.2, but you have pandas 2.2.3 which is incompatible.\n",
            "google-colab 1.0.0 requires requests==2.32.3, but you have requests 2.31.0 which is incompatible.\u001b[0m\u001b[31m\n",
            "\u001b[0m"
          ]
        }
      ]
    },
    {
      "cell_type": "markdown",
      "source": [
        "# 2. Library Imports"
      ],
      "metadata": {
        "id": "yguk2LPbmDeB"
      }
    },
    {
      "cell_type": "markdown",
      "source": [
        "## 2.1 Base Google Dependencies"
      ],
      "metadata": {
        "id": "6EzpZIzEk8-5"
      }
    },
    {
      "cell_type": "code",
      "execution_count": 1,
      "metadata": {
        "id": "b22OPnNLNned"
      },
      "outputs": [],
      "source": [
        "import os\n",
        "import sys\n",
        "import json\n",
        "\n",
        "import base64\n",
        "import requests\n",
        "\n",
        "from google.colab import userdata\n",
        "from google.colab import files\n",
        "\n",
        "import datasets\n",
        "from pathlib import Path"
      ]
    },
    {
      "cell_type": "markdown",
      "source": [
        "# 3. Define AI Framework"
      ],
      "metadata": {
        "id": "_kuAD6LRH-1h"
      }
    },
    {
      "cell_type": "markdown",
      "source": [
        "## 3.1 Define Model and Parameters"
      ],
      "metadata": {
        "id": "Q8F91tWfxcLf"
      }
    },
    {
      "cell_type": "code",
      "execution_count": 2,
      "metadata": {
        "id": "sRGTytxCjKaW"
      },
      "outputs": [],
      "source": [
        "os.environ['HUGGINGFACEHUB_API_TOKEN'] = userdata.get('HF_TOKEN')"
      ]
    },
    {
      "cell_type": "code",
      "source": [
        "os.environ['HF_HOME'] = \"/root/.cache/huggingface/hub/\" # \"~/.chache/.huggingface/\" # \"./drive/MyDrive/huggingface/cache/\"\n",
        "\n",
        "os.environ['HUGGINGFACE_HUB_CACHE'] = os.environ['HF_HOME']\n",
        "os.environ['HF_DATASETS_CACHE'] = os.environ['HF_HOME']\n",
        "os.environ['TRANSFORMERS_CACHE'] = os.environ['HF_HOME']"
      ],
      "metadata": {
        "id": "lRtDha1t0_Qf"
      },
      "execution_count": 3,
      "outputs": []
    },
    {
      "cell_type": "code",
      "source": [
        "datasets.config.DOWNLOADED_DATASETS_PATH = Path(os.environ['HF_HOME'])\n",
        "datasets.config.HF_DATASETS_CACHE = os.environ['HF_HOME']"
      ],
      "metadata": {
        "id": "dcyONjESIeVz"
      },
      "execution_count": 4,
      "outputs": []
    },
    {
      "cell_type": "code",
      "source": [
        "model_llm: str = \"meta-llama/Llama-3.2-3B-Instruct\""
      ],
      "metadata": {
        "id": "QbRZAj6dxah2"
      },
      "execution_count": 5,
      "outputs": []
    },
    {
      "cell_type": "code",
      "source": [
        "model_llm: str = \"meta-llama/Llama-3.2-1B-Instruct\""
      ],
      "metadata": {
        "id": "Irm9BX54Ssks"
      },
      "execution_count": 6,
      "outputs": []
    },
    {
      "cell_type": "code",
      "source": [
        "model_embeddings: str = \"sentence-transformers/all-MiniLM-L6-v2\""
      ],
      "metadata": {
        "id": "ToT_YryP6dF-"
      },
      "execution_count": 32,
      "outputs": []
    },
    {
      "cell_type": "code",
      "source": [
        "model_embeddings: str = \"sentence-transformers/all-mpnet-base-v2\""
      ],
      "metadata": {
        "id": "rtShr-uN6a3u"
      },
      "execution_count": 8,
      "outputs": []
    },
    {
      "cell_type": "code",
      "source": [
        "max_tokens_limit: int = 20000\n",
        "temperature: float = 1e-10 # 0.1"
      ],
      "metadata": {
        "id": "Y8CkICNv6bQw"
      },
      "execution_count": 9,
      "outputs": []
    },
    {
      "cell_type": "markdown",
      "source": [
        "### 3.1.1 Define global variables"
      ],
      "metadata": {
        "id": "ktO8rMdQZNUV"
      }
    },
    {
      "cell_type": "code",
      "source": [
        "llm = None\n",
        "embeddings = None\n",
        "db = None\n",
        "retriever = None\n",
        "\n",
        "chat_history = None\n",
        "memory = None\n",
        "llm_chain = None"
      ],
      "metadata": {
        "id": "2fj8kJFUZQYG"
      },
      "execution_count": 10,
      "outputs": []
    },
    {
      "cell_type": "markdown",
      "source": [
        "# 4 Initialize AI"
      ],
      "metadata": {
        "id": "rvYJuQnVzdzW"
      }
    },
    {
      "cell_type": "markdown",
      "source": [
        "## 4.1. Common ai & langchain imports"
      ],
      "metadata": {
        "id": "liT7HDWf8OnU"
      }
    },
    {
      "cell_type": "markdown",
      "source": [
        "### 4.1.1 Pydantic allows for object-oriented semantic prompting into data structures (objects)"
      ],
      "metadata": {
        "id": "y_es3ACJb6Hs"
      }
    },
    {
      "cell_type": "code",
      "source": [
        "from pydantic import BaseModel, Field, validator"
      ],
      "metadata": {
        "id": "zHgq1j0NYYGr"
      },
      "execution_count": 11,
      "outputs": []
    },
    {
      "cell_type": "markdown",
      "source": [
        "### 4.1.2 Import langchain dependencies"
      ],
      "metadata": {
        "id": "ko2AW8eLcCBV"
      }
    },
    {
      "cell_type": "code",
      "source": [
        "from langchain import PromptTemplate, LLMChain\n",
        "from langchain_core.language_models.base import BaseLanguageModel\n",
        "from langchain_core.prompts.base import BasePromptTemplate\n",
        "\n",
        "from langchain.schema import HumanMessage, SystemMessage, AIMessage\n",
        "\n",
        "from langchain.prompts import (\n",
        "    ChatPromptTemplate,\n",
        "    HumanMessagePromptTemplate,\n",
        "    SystemMessagePromptTemplate,\n",
        ")\n",
        "\n",
        "from langchain.text_splitter import RecursiveCharacterTextSplitter\n",
        "from langchain.vectorstores import FAISS\n",
        "from langchain_community.document_loaders import OnlinePDFLoader\n",
        "from langchain_community.document_loaders import PyPDFDirectoryLoader\n",
        "from langchain.text_splitter import CharacterTextSplitter\n",
        "\n",
        "from langchain_community.chat_message_histories import ChatMessageHistory\n",
        "from langchain_core.chat_history import InMemoryChatMessageHistory\n",
        "from langchain_core.chat_history import BaseChatMessageHistory\n",
        "from langchain_core.runnables.history import RunnableWithMessageHistory\n",
        "\n",
        "from langchain_core.documents import Document\n",
        "from langchain_core.prompts import PromptTemplate\n",
        "\n",
        "from langchain.memory import ConversationBufferMemory\n",
        "from langchain.chains.qa_with_sources.retrieval import RetrievalQAWithSourcesChain\n",
        "from langchain.chains import RetrievalQA, ConversationalRetrievalChain\n",
        "\n",
        "from langchain_core.output_parsers import JsonOutputParser\n",
        "from langchain.output_parsers import PydanticOutputParser"
      ],
      "metadata": {
        "id": "hpoSJaZrYvfR"
      },
      "execution_count": 12,
      "outputs": []
    },
    {
      "cell_type": "markdown",
      "source": [
        "### 4.1.3 Hugging Face imports"
      ],
      "metadata": {
        "id": "AeLjSSxp8TJG"
      }
    },
    {
      "cell_type": "code",
      "source": [
        "from langchain_huggingface import HuggingFaceEndpoint\n",
        "from langchain_huggingface import HuggingFaceEndpointEmbeddings\n",
        "\n",
        "from langchain import HuggingFaceHub\n",
        "from langchain_huggingface import ChatHuggingFace, HuggingFaceEmbeddings\n",
        "\n",
        "from langchain.document_loaders import HuggingFaceDatasetLoader\n",
        "\n",
        "from huggingface_hub import login, whoami\n",
        "from huggingface_hub import snapshot_download\n",
        "\n",
        "from langchain_huggingface.llms import HuggingFacePipeline"
      ],
      "metadata": {
        "id": "RFoaUwVk8WYV"
      },
      "execution_count": 13,
      "outputs": []
    },
    {
      "cell_type": "code",
      "source": [
        "from transformers import AutoModelForCausalLM, AutoTokenizer, pipeline\n",
        "from transformers import AutoTokenizer, AutoModelForQuestionAnswering"
      ],
      "metadata": {
        "colab": {
          "base_uri": "https://localhost:8080/"
        },
        "id": "d1Spl_TfRlHf",
        "outputId": "4ac25972-5ed8-4a69-df55-fa6cd626f385"
      },
      "execution_count": 14,
      "outputs": [
        {
          "output_type": "stream",
          "name": "stderr",
          "text": [
            "/usr/local/lib/python3.10/dist-packages/transformers/utils/hub.py:128: FutureWarning: Using `TRANSFORMERS_CACHE` is deprecated and will be removed in v5 of Transformers. Use `HF_HOME` instead.\n",
            "  warnings.warn(\n"
          ]
        }
      ]
    },
    {
      "cell_type": "markdown",
      "source": [
        "### 4.1.4 OpenAI Imports"
      ],
      "metadata": {
        "id": "PtCrU1JscxWC"
      }
    },
    {
      "cell_type": "code",
      "source": [
        "import openai\n",
        "\n",
        "# from langchain.llms import OpenAI\n",
        "# from langchain.chat_models import ChatOpenAI\n",
        "from langchain_openai import OpenAI, ChatOpenAI\n",
        "from langchain_openai import OpenAIEmbeddings"
      ],
      "metadata": {
        "id": "zrxBoJXfcxz2"
      },
      "execution_count": 15,
      "outputs": []
    },
    {
      "cell_type": "markdown",
      "source": [
        "### 4.1.5 Liquid AI Imports"
      ],
      "metadata": {
        "id": "yajJfQmdc1vS"
      }
    },
    {
      "cell_type": "code",
      "source": [
        "import liquidai"
      ],
      "metadata": {
        "id": "r_U2zFczc4zT"
      },
      "execution_count": 16,
      "outputs": []
    },
    {
      "cell_type": "markdown",
      "source": [
        "## 4.2 Initialize LLM and Embeddings (Hugging Face)"
      ],
      "metadata": {
        "id": "pLbfzed4868m"
      }
    },
    {
      "cell_type": "code",
      "source": [
        "whoami(token=os.environ['HUGGINGFACEHUB_API_TOKEN'])"
      ],
      "metadata": {
        "id": "Fx6maY8cnDzS"
      },
      "execution_count": null,
      "outputs": []
    },
    {
      "cell_type": "code",
      "source": [
        "login(token=os.environ['HUGGINGFACEHUB_API_TOKEN'])"
      ],
      "metadata": {
        "id": "co96lQCDmvlI"
      },
      "execution_count": 122,
      "outputs": []
    },
    {
      "cell_type": "markdown",
      "source": [
        "### 4.2.1 LLM"
      ],
      "metadata": {
        "id": "t1Qfpm0WVUJq"
      }
    },
    {
      "cell_type": "markdown",
      "source": [
        "#### 4.2.1.1 Online LLM"
      ],
      "metadata": {
        "id": "EK_KTLDcWH_j"
      }
    },
    {
      "cell_type": "code",
      "source": [
        "def llm_huggingface_online():\n",
        "  global llm\n",
        "\n",
        "  llm_endpoint = HuggingFaceEndpoint(\n",
        "      repo_id=model_llm,\n",
        "      task=\"text-generation\",\n",
        "      # max_new_tokens=512,\n",
        "      do_sample=False,\n",
        "      repetition_penalty=1.03,\n",
        "      temperature=temperature\n",
        "  )\n",
        "\n",
        "  llm = ChatHuggingFace(llm=llm_endpoint)"
      ],
      "metadata": {
        "id": "IHQIqWg1WMNG"
      },
      "execution_count": 17,
      "outputs": []
    },
    {
      "cell_type": "markdown",
      "source": [
        "#### 4.2.1.2 Offline LLM"
      ],
      "metadata": {
        "id": "MDvFKesRWMre"
      }
    },
    {
      "cell_type": "code",
      "source": [
        "def llm_huggingface_offline():\n",
        "  global llm\n",
        "  snapshot_download(repo_id=model_llm)\n",
        "  llm = HuggingFacePipeline.from_model_id(\n",
        "      model_id=model_llm,\n",
        "      task=\"text-generation\",\n",
        "      pipeline_kwargs={\n",
        "          \"token\": os.environ['HUGGINGFACEHUB_API_TOKEN'],\n",
        "          # \"max_new_tokens\": 100,\n",
        "          # \"top_k\": 50,\n",
        "          \"temperature\": temperature,\n",
        "      }\n",
        "  )\n",
        "  llm.pipeline.tokenizer.pad_token_id = llm.pipeline.tokenizer.eos_token_id"
      ],
      "metadata": {
        "id": "MiaAVnKXeWZa"
      },
      "execution_count": 18,
      "outputs": []
    },
    {
      "cell_type": "markdown",
      "source": [
        "### 4.2.2 Embeddings"
      ],
      "metadata": {
        "id": "vET_wWijVNz3"
      }
    },
    {
      "cell_type": "markdown",
      "source": [
        "#### 4.2.2.1 Online Embeddings"
      ],
      "metadata": {
        "id": "-0I-PPJjVYAM"
      }
    },
    {
      "cell_type": "code",
      "source": [
        "def embeddings_huggingface_online():\n",
        "  global embeddings\n",
        "  embeddings = HuggingFaceEndpointEmbeddings(\n",
        "      model=model_embeddings,\n",
        "      task=\"feature-extraction\"\n",
        "  )"
      ],
      "metadata": {
        "id": "TaMKqZrn5EKf"
      },
      "execution_count": 19,
      "outputs": []
    },
    {
      "cell_type": "markdown",
      "source": [
        "#### 4.2.2.2 Offline Embeddings"
      ],
      "metadata": {
        "id": "4-8g6E95Vby3"
      }
    },
    {
      "cell_type": "code",
      "source": [
        "def embeddings_huggingface_offline():\n",
        "  global embeddings\n",
        "  snapshot_download(repo_id=model_embeddings)\n",
        "  embeddings = HuggingFaceEmbeddings(\n",
        "    model_name=model_embeddings\n",
        "  )"
      ],
      "metadata": {
        "id": "8Djyz7UBVl61"
      },
      "execution_count": 20,
      "outputs": []
    },
    {
      "cell_type": "markdown",
      "source": [
        "## 4.3 Initialize LLM and Embeddings (Open AI)"
      ],
      "metadata": {
        "id": "Y8m2erfZpQ9e"
      }
    },
    {
      "cell_type": "code",
      "source": [
        "os.environ[\"OPENAI_API_KEY\"] = userdata.get('OAI_TOKEN')"
      ],
      "metadata": {
        "id": "Wfl9pDBGqSq6"
      },
      "execution_count": 21,
      "outputs": []
    },
    {
      "cell_type": "code",
      "source": [
        "def llm_openai():\n",
        "  global llm\n",
        "  llm = ChatOpenAI(\n",
        "      api_key = os.environ.get(\"OPENAI_API_KEY\"),\n",
        "      model_name = \"gpt-4o\",\n",
        "      temperature = temperature,\n",
        "      top_p = 0.9\n",
        "  )"
      ],
      "metadata": {
        "id": "PB7gcYSKqwoq"
      },
      "execution_count": 22,
      "outputs": []
    },
    {
      "cell_type": "code",
      "source": [
        "def embeddings_openai():\n",
        "  global embeddings\n",
        "  embeddings = OpenAIEmbeddings(\n",
        "      api_key = os.environ.get(\"OPENAI_API_KEY\"),\n",
        "      model=\"text-embedding-3-large\"\n",
        "  )"
      ],
      "metadata": {
        "id": "b0w_u_Ny5HXX"
      },
      "execution_count": 23,
      "outputs": []
    },
    {
      "cell_type": "markdown",
      "source": [
        "## 4.4 Initialize LLM and Embedding Instances"
      ],
      "metadata": {
        "id": "GB9vp74Cbohk"
      }
    },
    {
      "cell_type": "markdown",
      "source": [
        "### 4.4.1 Initialize Huggingface offline"
      ],
      "metadata": {
        "id": "AMAjcHoYb7fD"
      }
    },
    {
      "cell_type": "code",
      "source": [
        "llm_huggingface_offline()\n",
        "embeddings_huggingface_offline()"
      ],
      "metadata": {
        "colab": {
          "base_uri": "https://localhost:8080/",
          "height": 49,
          "referenced_widgets": [
            "84a3028bfb1541f9bcceddee5828d640",
            "1ec284f28957455f955dfff4fa93de63",
            "b0d06d52acbd4074915244ffca715ece",
            "35750f62661f4bc3b6693bf3ef606f80",
            "d954710e79ab4a4094896a5111bb4ab9",
            "6d08b503c91f4f99aedf3d269217aa48",
            "39b5ee3e87c94cfeaad83333c60615ce",
            "041243299789478b8da2b8466e85cd4f",
            "94d6fe13df954d89938303cfc3a2bfb9",
            "781521c6077243a5b487f0a1d4f3bd66",
            "da04dc780c4c41eba2229e70b0d267e0"
          ]
        },
        "id": "lQ7C1Yevb0gc",
        "outputId": "8aa0d139-0f57-4af5-c4c5-69efc9f2ec1e"
      },
      "execution_count": null,
      "outputs": [
        {
          "output_type": "display_data",
          "data": {
            "text/plain": [
              "Fetching 13 files:   0%|          | 0/13 [00:00<?, ?it/s]"
            ],
            "application/vnd.jupyter.widget-view+json": {
              "version_major": 2,
              "version_minor": 0,
              "model_id": "84a3028bfb1541f9bcceddee5828d640"
            }
          },
          "metadata": {}
        }
      ]
    },
    {
      "cell_type": "markdown",
      "source": [
        "### 4.4.2 Initialize Huggingface online"
      ],
      "metadata": {
        "id": "7rNXdEoMcAbF"
      }
    },
    {
      "cell_type": "code",
      "source": [
        "llm_huggingface_online()\n",
        "embeddings_huggingface_online()"
      ],
      "metadata": {
        "id": "FF-qkntgb0Rq"
      },
      "execution_count": 33,
      "outputs": []
    },
    {
      "cell_type": "markdown",
      "source": [
        "### 4.4.3 Initialize OpenAI"
      ],
      "metadata": {
        "id": "zviqAdmVcC4X"
      }
    },
    {
      "cell_type": "code",
      "source": [
        "llm_openai()\n",
        "embeddings_openai()"
      ],
      "metadata": {
        "id": "OwF4h_0Jbz38"
      },
      "execution_count": 53,
      "outputs": []
    },
    {
      "cell_type": "markdown",
      "source": [
        "# 5. Initialize Vector DB (in Memory via FAISS)"
      ],
      "metadata": {
        "id": "NUyf1BET9AGJ"
      }
    },
    {
      "cell_type": "code",
      "source": [
        "docs = []\n",
        "loader = None"
      ],
      "metadata": {
        "id": "jbK-HM3G-A4m"
      },
      "execution_count": 25,
      "outputs": []
    },
    {
      "cell_type": "markdown",
      "source": [
        "## 5.1 Get Data"
      ],
      "metadata": {
        "id": "boOFCs7JbB-a"
      }
    },
    {
      "cell_type": "markdown",
      "source": [
        "### 5.1.1 Get data from url\n",
        "e. g. https://eur-lex.europa.eu/legal-content/DE/TXT/?uri=CELEX:32024R1689"
      ],
      "metadata": {
        "id": "f-kc5J6E_xbE"
      }
    },
    {
      "cell_type": "code",
      "source": [
        "url = \"https://eur-lex.europa.eu/legal-content/DE/TXT/PDF/?uri=OJ:L_202401689\""
      ],
      "metadata": {
        "id": "J3Vgufz3-Y5T"
      },
      "execution_count": 53,
      "outputs": []
    },
    {
      "cell_type": "code",
      "source": [
        "url = \"https://www.bund.net/fileadmin/user_upload_bund/publikationen/nachhaltigkeit/nachhaltigkeit_gutes_leben_sdgs.pdf\""
      ],
      "metadata": {
        "id": "Lk_XhULFOI6z"
      },
      "execution_count": 49,
      "outputs": []
    },
    {
      "cell_type": "code",
      "source": [
        "url = \"https://www.bundesregierung.de/resource/blob/975274/1873516/6c607bb5f16993ef18440d9e0dae55cb/2021-03-10-dns-2021-finale-langfassung-barrierefrei-data.pdf?download=1\""
      ],
      "metadata": {
        "id": "oJI9UlBHOtCS"
      },
      "execution_count": 51,
      "outputs": []
    },
    {
      "cell_type": "code",
      "source": [
        "loader = OnlinePDFLoader(url)"
      ],
      "metadata": {
        "id": "u4HjJ5CWMrcF"
      },
      "execution_count": 54,
      "outputs": []
    },
    {
      "cell_type": "markdown",
      "source": [
        "### 5.1.2 Get data from files"
      ],
      "metadata": {
        "id": "xP4Vx8wAQQrq"
      }
    },
    {
      "cell_type": "code",
      "source": [
        "base_path = \"./drive/MyDrive/sample_data/\""
      ],
      "metadata": {
        "id": "tSn4a7yDN2R9"
      },
      "execution_count": 58,
      "outputs": []
    },
    {
      "cell_type": "code",
      "source": [
        "path = base_path + \"nachhaltigkeit\""
      ],
      "metadata": {
        "id": "v269X1fIQdKI"
      },
      "execution_count": null,
      "outputs": []
    },
    {
      "cell_type": "code",
      "source": [
        "path = base_path + \"euaiact\""
      ],
      "metadata": {
        "id": "19U82Im5QaMO"
      },
      "execution_count": 59,
      "outputs": []
    },
    {
      "cell_type": "code",
      "source": [
        "loader = PyPDFDirectoryLoader(path)"
      ],
      "metadata": {
        "id": "TaRYpSzpQWVX"
      },
      "execution_count": 60,
      "outputs": []
    },
    {
      "cell_type": "markdown",
      "source": [
        "## 5.2 Prepare text content"
      ],
      "metadata": {
        "id": "yrryTZad_2jA"
      }
    },
    {
      "cell_type": "code",
      "source": [
        "chunk_size = 1000\n",
        "chunk_overlap = 30"
      ],
      "metadata": {
        "id": "zpmKwzBAo6h6"
      },
      "execution_count": 61,
      "outputs": []
    },
    {
      "cell_type": "code",
      "source": [
        "documents = loader.load()\n",
        "\n",
        "text_splitter = CharacterTextSplitter(chunk_size=chunk_size, chunk_overlap=chunk_overlap, separator=\"\\n\")\n",
        "docs = text_splitter.split_documents(documents)\n",
        "\n",
        "print(\"Docs loaded: \" + str(len(docs)))"
      ],
      "metadata": {
        "colab": {
          "base_uri": "https://localhost:8080/"
        },
        "id": "m29CAJ3p-fj2",
        "outputId": "fe2c3aa4-42c6-4f9b-8af2-d6374ab38fc4"
      },
      "execution_count": 62,
      "outputs": [
        {
          "output_type": "stream",
          "name": "stdout",
          "text": [
            "Docs loaded: 792\n"
          ]
        }
      ]
    },
    {
      "cell_type": "markdown",
      "source": [
        "## 5.3 Create embeddings and build vector db"
      ],
      "metadata": {
        "id": "F2pL8Rwc_6Ha"
      }
    },
    {
      "cell_type": "code",
      "source": [
        "db = FAISS.from_documents(docs, embeddings)"
      ],
      "metadata": {
        "id": "rZO5EwGE9G3t"
      },
      "execution_count": 63,
      "outputs": []
    },
    {
      "cell_type": "code",
      "source": [
        "retriever = db.as_retriever()"
      ],
      "metadata": {
        "id": "AfycpAHwSUK2"
      },
      "execution_count": 65,
      "outputs": []
    },
    {
      "cell_type": "markdown",
      "source": [
        "## 6. Initialize misc basics like question set"
      ],
      "metadata": {
        "id": "oYjdUTs99IQW"
      }
    },
    {
      "cell_type": "code",
      "source": [
        "questions = []"
      ],
      "metadata": {
        "id": "ujaZv4fvz3q5"
      },
      "execution_count": 36,
      "outputs": []
    },
    {
      "cell_type": "code",
      "source": [
        "def add(question: str):\n",
        "  global questions\n",
        "  questions.append(question)"
      ],
      "metadata": {
        "id": "Tlugq3s_yHKo"
      },
      "execution_count": 37,
      "outputs": []
    },
    {
      "cell_type": "markdown",
      "source": [
        "# 7. Define your questions"
      ],
      "metadata": {
        "id": "79KWJUT6ym73"
      }
    },
    {
      "cell_type": "code",
      "source": [
        "questions = []"
      ],
      "metadata": {
        "id": "qQ80tbmePEra"
      },
      "execution_count": 80,
      "outputs": []
    },
    {
      "cell_type": "code",
      "source": [
        "add(\"Verfasse eine Zusammenfassung in 500 Worten oder weniger.\")"
      ],
      "metadata": {
        "id": "WB0IGoJ1zMdk"
      },
      "execution_count": 81,
      "outputs": []
    },
    {
      "cell_type": "code",
      "source": [
        "add(\"Fasse die Bedeutsamsten Punkte in maximal 20 Stichpunkten mit kurzer Erklärung zusammen.\")"
      ],
      "metadata": {
        "id": "zsyM6nqZOgyg"
      },
      "execution_count": 82,
      "outputs": []
    },
    {
      "cell_type": "code",
      "source": [
        "add(\"Fasse §66 in weniger als 100 Worten zusammen.\")"
      ],
      "metadata": {
        "id": "M9TJvTZ8PIAX"
      },
      "execution_count": 83,
      "outputs": []
    },
    {
      "cell_type": "code",
      "source": [
        "add(\"Erstelle einen ausführlichen Vorschlag in Stichpunkten, wie sich eine KI nach den Kriterien des EU AI Acts gründlich bewerten und einschätzen lässt.\")"
      ],
      "metadata": {
        "id": "r7FyI0phJcL0"
      },
      "execution_count": 84,
      "outputs": []
    },
    {
      "cell_type": "markdown",
      "source": [
        "# 8. Execute"
      ],
      "metadata": {
        "id": "oQnGZYA9zs1T"
      }
    },
    {
      "cell_type": "markdown",
      "source": [
        "## 8.1 Initialize Chat History"
      ],
      "metadata": {
        "id": "WV-i4tpxqDrp"
      }
    },
    {
      "cell_type": "code",
      "source": [
        "chat_history = InMemoryChatMessageHistory()"
      ],
      "metadata": {
        "id": "WrY64fScllVO"
      },
      "execution_count": 85,
      "outputs": []
    },
    {
      "cell_type": "markdown",
      "source": [
        "## 8.2 Initialize Chat Memory"
      ],
      "metadata": {
        "id": "tuBnG3R8qH8Y"
      }
    },
    {
      "cell_type": "code",
      "source": [
        "memory = ConversationBufferMemory(\n",
        "    memory_key='chat_history',\n",
        "    return_messages=True,\n",
        "    output_key='answer',\n",
        "    chat_memory=chat_history\n",
        ")"
      ],
      "metadata": {
        "id": "jC3ZHbQFReru"
      },
      "execution_count": 86,
      "outputs": []
    },
    {
      "cell_type": "markdown",
      "source": [
        "## 8.3 Define Priming Prompt"
      ],
      "metadata": {
        "id": "hzV3iHFXqNCu"
      }
    },
    {
      "cell_type": "code",
      "source": [
        "priming: str = \"\"\"You are an top-tier lawyer specializing in digital laws and especially ai.\n",
        "You analyze and interpret legal text with the highest proficiency and explain them in simple and easy to understand terms.\n",
        "Always respond in german.\"\"\""
      ],
      "metadata": {
        "id": "koCb-gfxou_k"
      },
      "execution_count": 74,
      "outputs": []
    },
    {
      "cell_type": "markdown",
      "source": [
        "## 8.4 Define Messages (system and human)"
      ],
      "metadata": {
        "id": "1dJra_TIqQWW"
      }
    },
    {
      "cell_type": "code",
      "source": [
        "system_message_prompt = SystemMessagePromptTemplate.from_template(\n",
        "    priming + \" The context is:\\n{context}\"\n",
        ")\n",
        "human_message_prompt = HumanMessagePromptTemplate.from_template(\n",
        "    \"{question}\"\n",
        ")"
      ],
      "metadata": {
        "id": "MMcRI_P-oaEb"
      },
      "execution_count": 75,
      "outputs": []
    },
    {
      "cell_type": "markdown",
      "source": [
        "## 8.5 Initialize Conversation Chain\n",
        "\n",
        "\n"
      ],
      "metadata": {
        "id": "MQnDsn8bqWJI"
      }
    },
    {
      "cell_type": "code",
      "source": [
        "llm_chain = ConversationalRetrievalChain.from_llm(\n",
        "    llm=llm,\n",
        "    retriever=retriever,\n",
        "    memory=memory,\n",
        "    verbose=False,\n",
        "    combine_docs_chain_kwargs={\n",
        "        \"prompt\": ChatPromptTemplate.from_messages([\n",
        "            system_message_prompt,\n",
        "            human_message_prompt,\n",
        "        ]),\n",
        "    },\n",
        "    return_source_documents=True,\n",
        "    max_tokens_limit=max_tokens_limit\n",
        ")"
      ],
      "metadata": {
        "id": "pqNnqvjASNMe"
      },
      "execution_count": 87,
      "outputs": []
    },
    {
      "cell_type": "markdown",
      "source": [
        "## 8.6 All-in-one to accomodate huggingface restrictions"
      ],
      "metadata": {
        "id": "uITYzltW5ZLL"
      }
    },
    {
      "cell_type": "markdown",
      "source": [
        "### 8.6.1 Define ask function with reinit for each ask (saves memory)"
      ],
      "metadata": {
        "id": "brpTpaG_ad7u"
      }
    },
    {
      "cell_type": "code",
      "source": [
        "def ask(question: str) -> str:\n",
        "  global llm_chain\n",
        "  global chat_history\n",
        "  global memory\n",
        "\n",
        "  chat_history = InMemoryChatMessageHistory()\n",
        "\n",
        "  memory = ConversationBufferMemory(\n",
        "      memory_key='chat_history',\n",
        "      return_messages=True,\n",
        "      output_key='answer',\n",
        "      chat_memory=chat_history\n",
        "  )\n",
        "\n",
        "  llm_chain = ConversationalRetrievalChain.from_llm(\n",
        "      llm=llm,\n",
        "      retriever=retriever,\n",
        "      memory=memory,\n",
        "      verbose=False,\n",
        "      combine_docs_chain_kwargs={\n",
        "          \"prompt\": ChatPromptTemplate.from_messages([\n",
        "              system_message_prompt,\n",
        "              human_message_prompt,\n",
        "          ]),\n",
        "      },\n",
        "      return_source_documents=True\n",
        "  )\n",
        "\n",
        "  response = llm_chain.invoke(question)\n",
        "  chat_history = response[\"chat_history\"]\n",
        "  last: AIMessage = chat_history[-1]\n",
        "  answer = last.content\n",
        "  return answer"
      ],
      "metadata": {
        "id": "dGMuOBFf5ZnS"
      },
      "execution_count": 30,
      "outputs": []
    },
    {
      "cell_type": "markdown",
      "source": [
        "### 8.6.2 Define ask function keeping session memory"
      ],
      "metadata": {
        "id": "ODbxU8QPapvV"
      }
    },
    {
      "cell_type": "code",
      "source": [
        "def ask(question: str) -> str:\n",
        "  global llm_chain\n",
        "  global chat_history\n",
        "  global memory\n",
        "\n",
        "  response = llm_chain.invoke(question)\n",
        "  chat_history = response[\"chat_history\"]\n",
        "  last: AIMessage = chat_history[-1]\n",
        "  answer = last.content\n",
        "  return answer"
      ],
      "metadata": {
        "id": "dGWq3TYG6_BW"
      },
      "execution_count": 88,
      "outputs": []
    },
    {
      "cell_type": "markdown",
      "source": [
        "## 8.7 Shoot questions"
      ],
      "metadata": {
        "id": "TgL8n7gGqZx6"
      }
    },
    {
      "cell_type": "code",
      "source": [
        "for question in questions:\n",
        "  answer = ask(question)\n",
        "  print(\"Question: \" + question)\n",
        "  print(\"Answer: \")\n",
        "  print(answer)\n",
        "  print(\"\")"
      ],
      "metadata": {
        "colab": {
          "base_uri": "https://localhost:8080/"
        },
        "id": "Y5vURYeOzSh3",
        "outputId": "ad420fb7-4a3a-4d2d-c78c-e30eb87b9ecd"
      },
      "execution_count": 89,
      "outputs": [
        {
          "output_type": "stream",
          "name": "stdout",
          "text": [
            "Question: Verfasse eine Zusammenfassung in 500 Worten oder weniger.\n",
            "Answer: \n",
            "Der Text behandelt die rechtlichen Anforderungen und Verpflichtungen für Anbieter von KI-Modellen mit allgemeinem Verwendungszweck. Es wird betont, dass Anbieter eine Strategie zur Einhaltung des Urheberrechts der Europäischen Union entwickeln und eine Zusammenfassung der für das Training verwendeten Inhalte veröffentlichen müssen. Diese Zusammenfassung sollte detailliert genug sein, um berechtigten Parteien, einschließlich Urheberrechtsinhabern, die Ausübung und Durchsetzung ihrer Rechte zu erleichtern. Gleichzeitig muss der Schutz von Geschäftsgeheimnissen und vertraulichen Informationen gewährleistet sein.\n",
            "\n",
            "Ein weiterer wichtiger Punkt ist die Beschreibung der Systemarchitektur von KI-Systemen. Diese Beschreibung sollte aufzeigen, wie Softwarekomponenten zusammenarbeiten und in die Gesamtverarbeitung integriert sind. Dies umfasst auch die Ressourcen, die für die Entwicklung, das Training, das Testen und die Validierung des KI-Systems verwendet werden, sowie die Datenquellen, einschließlich privater oder öffentlicher Datenbanken.\n",
            "\n",
            "Das Büro für Künstliche Intelligenz spielt eine zentrale Rolle, indem es Vorlagen für die erforderlichen Zusammenfassungen bereitstellt und überwacht, ob die Anbieter ihre Pflichten erfüllen. Es wird jedoch nicht erwartet, dass das Büro die Trainingsdaten selbst überprüft.\n",
            "\n",
            "Die Zusammenfassung der für das Training verwendeten Inhalte sollte allgemein verständlich und nicht zu technisch detailliert sein. Sie sollte die wichtigsten Datenerhebungen oder Datensätze auflisten, die beim Training des Modells verwendet wurden, um Transparenz zu schaffen und die Rechte der Urheberrechtsinhaber zu schützen.\n",
            "\n",
            "Insgesamt zielt der Text darauf ab, einen rechtlichen Rahmen zu schaffen, der sowohl die Innovation im Bereich der Künstlichen Intelligenz fördert als auch die Rechte der Urheberrechtsinhaber schützt. Dies soll durch klare Anforderungen an die Transparenz und die Einhaltung des Urheberrechts erreicht werden.\n",
            "\n",
            "Question: Fasse die Bedeutsamsten Punkte in maximal 20 Stichpunkten mit kurzer Erklärung zusammen.\n",
            "Answer: \n",
            "1. **Entwurfsentscheidungen**: Entscheidungen und Annahmen, die bei der Entwicklung eines KI-Systems getroffen werden, einschließlich der Zielgruppen.\n",
            "\n",
            "2. **Einstufungsentscheidungen**: Hauptentscheidungen darüber, wie das System klassifiziert wird und was es optimieren soll.\n",
            "\n",
            "3. **Systemoptimierung**: Bedeutung der verschiedenen Parameter, die das System optimieren soll.\n",
            "\n",
            "4. **Erwartete Ausgabe**: Beschreibung der erwarteten Ergebnisse und deren Qualität.\n",
            "\n",
            "5. **Technische Kompromisse**: Entscheidungen über mögliche Kompromisse bei der Erfüllung technischer Anforderungen.\n",
            "\n",
            "6. **Systemarchitektur**: Wie Softwarekomponenten zusammenarbeiten und in die Gesamtverarbeitung integriert sind.\n",
            "\n",
            "7. **Rechenressourcen**: Ressourcen, die für die Entwicklung, das Training, Testen und Validieren des KI-Systems verwendet werden.\n",
            "\n",
            "8. **Deepfake**: KI-erzeugte Inhalte, die realen Personen oder Ereignissen ähneln und als echt erscheinen können.\n",
            "\n",
            "9. **Weitverbreiteter Verstoß**: Handlungen, die gegen Unionsrecht verstoßen und kollektive Interessen in mehreren Mitgliedstaaten schädigen.\n",
            "\n",
            "10. **Vorhersehbare Fehlanwendung**: Nutzung eines KI-Systems entgegen seiner Zweckbestimmung, die aus menschlichem Verhalten resultiert.\n",
            "\n",
            "11. **Sicherheitsbauteil**: Bestandteil eines Produkts oder KI-Systems, der eine Sicherheitsfunktion erfüllt.\n",
            "\n",
            "12. **Betriebsanleitungen**: Informationen zur ordnungsgemäßen Verwendung eines KI-Systems.\n",
            "\n",
            "13. **Rückruf eines KI-Systems**: Maßnahmen zur Rückgabe oder Außerbetriebsetzung eines Systems.\n",
            "\n",
            "14. **Verwendungszweck-Daten**: Daten, die für das Training eines KI-Modells mit allgemeinem Verwendungszweck genutzt werden.\n",
            "\n",
            "15. **Zusammenfassung der Trainingsinhalte**: Anbieter sollen eine detaillierte Zusammenfassung der für das Training verwendeten Inhalte erstellen.\n",
            "\n",
            "16. **Schutz von Geschäftsgeheimnissen**: Notwendigkeit, Geschäftsgeheimnisse und vertrauliche Informationen zu schützen.\n",
            "\n",
            "17. **Rechteinhaber**: Erleichterung der Ausübung und Durchsetzung von Rechten der Urheberrechtsinhaber.\n",
            "\n",
            "18. **Datenerhebungen**: Auflistung der wichtigsten Datensätze, die beim Training des Modells verwendet wurden.\n",
            "\n",
            "19. **Unionsrecht**: Bezugnahme auf die Einhaltung und den Schutz von Rechten gemäß dem Unionsrecht.\n",
            "\n",
            "20. **Interaktion mit anderen Systemen**: Vorhersehbare Interaktionen mit anderen Systemen, einschließlich anderer KI-Systeme.\n",
            "\n",
            "Question: Fasse §66 in weniger als 100 Worten zusammen.\n",
            "Answer: \n",
            "Ein \"KI-System mit allgemeinem Verwendungszweck\" basiert auf einem KI-Modell, das vielseitig einsetzbar ist. Es kann für verschiedene Zwecke direkt genutzt oder in andere KI-Systeme integriert werden. Solche Systeme sind flexibel und anpassungsfähig, um eine breite Palette von Anwendungen zu unterstützen.\n",
            "\n",
            "Question: Erstelle einen ausführlichen Vorschlag in Stichpunkten, wie sich eine KI nach den Kriterien des EU AI Acts gründlich bewerten und einschätzen lässt.\n",
            "Answer: \n",
            "- **Definition des KI-Modells:**\n",
            "  - Identifikation, ob es sich um ein KI-Modell mit allgemeinem Verwendungszweck handelt.\n",
            "  - Festlegung eines Schwellenwerts für Gleitkommaoperationen zur Bestimmung systemischer Risiken.\n",
            "\n",
            "- **Technologische und industrielle Anpassungen:**\n",
            "  - Regelmäßige Überprüfung und Anpassung des Schwellenwerts.\n",
            "  - Berücksichtigung algorithmischer Verbesserungen und erhöhter Hardwareeffizienz.\n",
            "\n",
            "- **Zusammenarbeit und Konsultation:**\n",
            "  - Zusammenarbeit mit der Wissenschaftsgemeinschaft, Industrie, Zivilgesellschaft und anderen Experten.\n",
            "  - Dokumentation der wichtigsten Entwurfsentscheidungen und Annahmen.\n",
            "\n",
            "- **Systemoptimierung und Parameterbewertung:**\n",
            "  - Festlegung, was das System optimieren soll.\n",
            "  - Bewertung der Bedeutung verschiedener Parameter.\n",
            "\n",
            "- **Erwartete Systemausgabe:**\n",
            "  - Beschreibung der erwarteten Ausgabe und deren Qualität.\n",
            "  - Analyse möglicher Kompromisse bei technischen Lösungen.\n",
            "\n",
            "- **Systemarchitektur:**\n",
            "  - Darstellung der Softwarekomponenten und deren Integration.\n",
            "  - Beschreibung der genutzten Rechenressourcen für Entwicklung, Training, Testen und Validierung.\n",
            "\n",
            "- **Bewertung der menschlichen Tätigkeit:**\n",
            "  - Analyse, ob das KI-System eine menschliche Tätigkeit ergänzt oder verbessert.\n",
            "  - Bewertung des Risikos bei der Ergänzung menschlicher Tätigkeiten.\n",
            "\n",
            "- **Entscheidungsmuster und Abweichungen:**\n",
            "  - Untersuchung von Entscheidungsmustern und Abweichungen von früheren Ergebnissen.\n",
            "\n",
            "- **Korrekturmöglichkeiten:**\n",
            "  - Bewertung der Leichtigkeit, mit der Ergebnisse korrigiert oder rückgängig gemacht werden können.\n",
            "  - Berücksichtigung der Auswirkungen auf Gesundheit, Sicherheit und Grundrechte.\n",
            "\n",
            "- **Nützlichkeit und Risiken:**\n",
            "  - Analyse des Nutzens für Einzelpersonen, Gruppen oder die Gesellschaft.\n",
            "  - Bewertung der Wahrscheinlichkeit und des Ausmaßes möglicher Verbesserungen der Produktsicherheit.\n",
            "\n",
            "- **Rechtliche Rahmenbedingungen:**\n",
            "  - Überprüfung bestehender Unionsrechte auf wirksame Abhilfemaßnahmen.\n",
            "  - Berücksichtigung von Risiken, die von einem KI-System ausgehen, mit Ausnahme von Schadenersatzansprüchen.\n",
            "\n"
          ]
        }
      ]
    },
    {
      "cell_type": "markdown",
      "source": [
        "## 8.8 Interactive prompt"
      ],
      "metadata": {
        "id": "WnXua5T-eQQv"
      }
    },
    {
      "cell_type": "code",
      "source": [
        "again: bool = True\n",
        "while(again):\n",
        "  result = input(\"Enter your Question: \")\n",
        "  value = str(result)\n",
        "  if value == \"exit\":\n",
        "    again = False\n",
        "  if again:\n",
        "    question: str = value\n",
        "    answer = ask(question)\n",
        "    print(\"Question: \" + question)\n",
        "    print(\"Answer: \")\n",
        "    print(answer)\n",
        "    print(\"\")"
      ],
      "metadata": {
        "colab": {
          "base_uri": "https://localhost:8080/"
        },
        "id": "nwRWy_UifET-",
        "outputId": "ff90d718-3940-4db5-d793-8c46cf564f40"
      },
      "execution_count": 79,
      "outputs": [
        {
          "name": "stdout",
          "output_type": "stream",
          "text": [
            "Enter your Question: mache einen ausführlichen Vorschlag in Stichpunkten, wie sich eine KI nach den Kriterien des EU AI Acts gründlich bewerten und einschätzen lässt.\n",
            "Question: mache einen ausführlichen Vorschlag in Stichpunkten, wie sich eine KI nach den Kriterien des EU AI Acts gründlich bewerten und einschätzen lässt.\n",
            "Answer: \n",
            "- **Eignung der Leistungskennzahlen:**\n",
            "  - Identifizieren und dokumentieren Sie die spezifischen Leistungskennzahlen des KI-Systems.\n",
            "  - Bewerten Sie, wie diese Kennzahlen die Funktionalität und Effizienz des Systems widerspiegeln.\n",
            "  - Stellen Sie sicher, dass die Kennzahlen für das spezifische Anwendungsgebiet der KI geeignet sind.\n",
            "\n",
            "- **Risikomanagementsystem:**\n",
            "  - Entwickeln Sie ein detailliertes Risikomanagementsystem gemäß Artikel 9 des EU AI Acts.\n",
            "  - Identifizieren Sie potenzielle Risiken, die mit dem Einsatz der KI verbunden sind.\n",
            "  - Implementieren Sie Maßnahmen zur Risikominderung und überwachen Sie deren Wirksamkeit kontinuierlich.\n",
            "\n",
            "- **Änderungen während des Lebenszyklus:**\n",
            "  - Dokumentieren Sie alle relevanten Änderungen, die während des Lebenszyklus des KI-Systems vorgenommen wurden.\n",
            "  - Bewerten Sie die Auswirkungen dieser Änderungen auf die Leistung und Sicherheit des Systems.\n",
            "\n",
            "- **Harmonisierte Normen:**\n",
            "  - Listen Sie alle vollständig oder teilweise angewandten harmonisierten Normen auf, die im Amtsblatt der EU veröffentlicht wurden.\n",
            "  - Falls keine harmonisierten Normen angewandt wurden, beschreiben Sie alternative Lösungen zur Erfüllung der Anforderungen aus Kapitel III Abschnitt 2.\n",
            "\n",
            "- **EU-Konformitätserklärung:**\n",
            "  - Stellen Sie eine Kopie der EU-Konformitätserklärung gemäß Artikel 47 bereit.\n",
            "  - Vergewissern Sie sich, dass alle Anforderungen und Standards eingehalten werden.\n",
            "\n",
            "- **Leistungsbewertung nach Vortraining:**\n",
            "  - Beschreiben Sie das System zur Bewertung der Leistung des KI-Systems nach dem Vortraining, der Generierung synthetischer Daten und der Feinabstimmung.\n",
            "  - Definieren Sie Schwellenwerte für Gleitkommaoperationen, um systemische Risiken zu identifizieren.\n",
            "\n",
            "- **Systemarchitektur:**\n",
            "  - Erstellen Sie eine detaillierte Beschreibung der Systemarchitektur.\n",
            "  - Erklären Sie, wie Softwarekomponenten zusammenarbeiten und in die Gesamtverarbeitung integriert sind.\n",
            "  - Dokumentieren Sie die verwendeten Rechenressourcen für Entwicklung, Training, Testen und Validierung.\n",
            "\n",
            "- **Korrektur und Rückgängigmachung:**\n",
            "  - Bewerten Sie, inwieweit Ergebnisse des KI-Systems leicht korrigierbar oder rückgängig zu machen sind.\n",
            "  - Berücksichtigen Sie dabei insbesondere negative Auswirkungen auf Gesundheit, Sicherheit oder Grundrechte.\n",
            "\n",
            "- **Nützlichkeit und Sicherheit:**\n",
            "  - Analysieren Sie das Ausmaß und die Wahrscheinlichkeit, dass der Einsatz des KI-Systems nützlich ist.\n",
            "  - Berücksichtigen Sie mögliche Verbesserungen der Produktsicherheit und den Nutzen für Einzelpersonen, Gruppen oder die Gesellschaft.\n",
            "\n",
            "- **Abhilfemaßnahmen:**\n",
            "  - Stellen Sie sicher, dass wirksame Abhilfemaßnahmen in Bezug auf die Risiken des KI-Systems vorhanden sind.\n",
            "  - Berücksichtigen Sie bestehendes Unionsrecht, das solche Maßnahmen vorsieht, mit Ausnahme von Schadenersatzansprüchen.\n",
            "\n",
            "Enter your Question: exit\n"
          ]
        }
      ]
    },
    {
      "cell_type": "markdown",
      "source": [
        "# 9. Advanced Concepts"
      ],
      "metadata": {
        "id": "l62NZWTQeTLN"
      }
    },
    {
      "cell_type": "markdown",
      "source": [
        "## 9.1 Working with data structures"
      ],
      "metadata": {
        "id": "sGrzNKWOeiYk"
      }
    },
    {
      "cell_type": "markdown",
      "source": [
        "### 9.1.1 Define Base classes"
      ],
      "metadata": {
        "id": "O_1q8-ylhzIg"
      }
    },
    {
      "cell_type": "code",
      "source": [
        "from typing import Deque, List, Optional, Tuple"
      ],
      "metadata": {
        "id": "-9lsuOCTi0bX"
      },
      "execution_count": 49,
      "outputs": []
    },
    {
      "cell_type": "code",
      "source": [
        "class Artikel(BaseModel):\n",
        "  artikel: int = Field(description=\"Nummer des Artikels\")\n",
        "  headline: str = Field(description=\"Titel des Artikels\")\n",
        "  summary: str = Field(description=\"Zusammenfassung in weniger als 50 Worten\")\n",
        "\n",
        "class Abschnitt(BaseModel):\n",
        "  abschnitt: int = Field(description=\"Nummer des Abschnitts\")\n",
        "  headline: str = Field(description=\"Titel des Abschnitts\")\n",
        "  summary: str = Field(description=\"Zusammenfassung in weniger als 50 Worten\")\n",
        "  artikel: List[Artikel] = Field(description=\"Alle Artikel des Abschnitts\")\n",
        "\n",
        "class Kapitel(BaseModel):\n",
        "  kapitel: int = Field(description=\"Nummer des Kapitels\")\n",
        "  headline: str = Field(description=\"Titel des Kapitels\")\n",
        "  summary: str = Field(description=\"Zusammenfassung in weniger als 50 Worten\")\n",
        "  abschnitte: List[Abschnitt] = Field(description=\"Alle Abschnitte des Kapitels\")\n",
        "\n",
        "class AutoSummaryResult(BaseModel):\n",
        "  name: str = Field(description=\"Titel des Dokuments\")\n",
        "  author: str = Field(description=\"Author des Dokuments\")\n",
        "  chapters: List[Kapitel] = Field(description=\"Liste aller Kapitel\")\n"
      ],
      "metadata": {
        "id": "yGcX-Qn0ejS9"
      },
      "execution_count": 50,
      "outputs": []
    },
    {
      "cell_type": "markdown",
      "source": [
        "### 9.1.2 Ask the AI"
      ],
      "metadata": {
        "id": "DRM59T9CiQr2"
      }
    },
    {
      "cell_type": "code",
      "source": [
        "# Build the parser for the Data Model\n",
        "parser = PydanticOutputParser(pydantic_object=AutoSummaryResult)\n",
        "\n",
        "# Define the prompt template\n",
        "template_text = priming + \"\"\"\n",
        "\n",
        "    {format_instructions}\n",
        "\n",
        "    SUMMARY: {summaries}\n",
        "\n",
        "    QUESTION: {question}\"\"\"\n",
        "\n",
        "summary_query = \"Gebe ausführliche und korrekte Informationen zu dem Text\"\n",
        "\n",
        "prompt = PromptTemplate(\n",
        "    template=template_text,\n",
        "    input_variables=[\"question\"],\n",
        "    partial_variables={\"format_instructions\": parser.get_format_instructions()},\n",
        ")\n",
        "\n",
        "# Build the retrieval chain\n",
        "qa = RetrievalQAWithSourcesChain.from_chain_type(\n",
        "    llm,\n",
        "    chain_type=\"stuff\",\n",
        "    retriever=retriever,\n",
        "    memory=memory,\n",
        "    chain_type_kwargs={\n",
        "        \"prompt\": prompt,\n",
        "    },\n",
        ")"
      ],
      "metadata": {
        "colab": {
          "base_uri": "https://localhost:8080/",
          "height": 211
        },
        "id": "HkOV1RBEicUl",
        "outputId": "dce20adf-7335-47eb-ad3e-ff000b605e85"
      },
      "execution_count": 1,
      "outputs": [
        {
          "output_type": "error",
          "ename": "NameError",
          "evalue": "name 'PydanticOutputParser' is not defined",
          "traceback": [
            "\u001b[0;31m---------------------------------------------------------------------------\u001b[0m",
            "\u001b[0;31mNameError\u001b[0m                                 Traceback (most recent call last)",
            "\u001b[0;32m<ipython-input-1-89c2f7ccaa26>\u001b[0m in \u001b[0;36m<cell line: 2>\u001b[0;34m()\u001b[0m\n\u001b[1;32m      1\u001b[0m \u001b[0;31m# Build the parser for the Data Model\u001b[0m\u001b[0;34m\u001b[0m\u001b[0;34m\u001b[0m\u001b[0m\n\u001b[0;32m----> 2\u001b[0;31m \u001b[0mparser\u001b[0m \u001b[0;34m=\u001b[0m \u001b[0mPydanticOutputParser\u001b[0m\u001b[0;34m(\u001b[0m\u001b[0mpydantic_object\u001b[0m\u001b[0;34m=\u001b[0m\u001b[0mAutoSummaryResult\u001b[0m\u001b[0;34m)\u001b[0m\u001b[0;34m\u001b[0m\u001b[0;34m\u001b[0m\u001b[0m\n\u001b[0m\u001b[1;32m      3\u001b[0m \u001b[0;34m\u001b[0m\u001b[0m\n\u001b[1;32m      4\u001b[0m \u001b[0;31m# Define the prompt template\u001b[0m\u001b[0;34m\u001b[0m\u001b[0;34m\u001b[0m\u001b[0m\n\u001b[1;32m      5\u001b[0m template_text = priming + \"\"\"\n",
            "\u001b[0;31mNameError\u001b[0m: name 'PydanticOutputParser' is not defined"
          ]
        }
      ]
    },
    {
      "cell_type": "code",
      "source": [
        "as_result = \"\"\n",
        "try:\n",
        "  # ask the question and process the result\n",
        "  summary = qa.invoke({\"question\": summary_query})\n",
        "  res = summary[\"answer\"]\n",
        "  if res.startswith(\"```json\"):\n",
        "      res = res[7:-3]\n",
        "  # res = json.dumps(res, indent = 4)\n",
        "  as_result = str(res)\n",
        "  print(as_result)\n",
        "except Exception as ex:\n",
        "  error = str(ex)\n",
        "  print(error)"
      ],
      "metadata": {
        "colab": {
          "base_uri": "https://localhost:8080/"
        },
        "id": "lh110qf9jTJt",
        "outputId": "66730fe4-3b64-4919-82ea-ae5ba60dc697"
      },
      "execution_count": 69,
      "outputs": [
        {
          "output_type": "stream",
          "name": "stdout",
          "text": [
            "\n",
            "{\n",
            "    \"name\": \"EU AI Act\",\n",
            "    \"author\": \"European Union\",\n",
            "    \"chapters\": [\n",
            "        {\n",
            "            \"kapitel\": 1,\n",
            "            \"headline\": \"Verwendungszweck und Dokumentation\",\n",
            "            \"summary\": \"Anbieter müssen klare und verständliche Informationen bereitstellen, die den Bedürfnissen der Zielbetreiber entsprechen.\",\n",
            "            \"abschnitte\": [\n",
            "                {\n",
            "                    \"abschnitt\": 1,\n",
            "                    \"headline\": \"Betriebsanleitungen\",\n",
            "                    \"summary\": \"Betriebsanleitungen sollten verständlich und in der Sprache der Zielbetreiber verfasst sein.\",\n",
            "                    \"artikel\": [\n",
            "                        {\n",
            "                            \"artikel\": 1,\n",
            "                            \"headline\": \"Inhalt der Betriebsanleitungen\",\n",
            "                            \"summary\": \"Enthält Beispiele und Informationen zu Beschränkungen und Verwendungen des KI-Systems.\"\n",
            "                        }\n",
            "                    ]\n",
            "                }\n",
            "            ]\n",
            "        },\n",
            "        {\n",
            "            \"kapitel\": 2,\n",
            "            \"headline\": \"Informationsanforderungen\",\n",
            "            \"summary\": \"Anbieter müssen auf Anfragen mit klaren Informationen antworten und die rechtlichen Grundlagen angeben.\",\n",
            "            \"abschnitte\": [\n",
            "                {\n",
            "                    \"abschnitt\": 1,\n",
            "                    \"headline\": \"Auskunftsersuchen\",\n",
            "                    \"summary\": \"Rechtsgrundlage und Zweck müssen im Auskunftsersuchen angegeben werden.\",\n",
            "                    \"artikel\": [\n",
            "                        {\n",
            "                            \"artikel\": 4,\n",
            "                            \"headline\": \"Anforderungen an Auskunftsersuchen\",\n",
            "                            \"summary\": \"Ersuchen müssen klar formuliert und mit Fristen versehen sein.\"\n",
            "                        },\n",
            "                        {\n",
            "                            \"artikel\": 5,\n",
            "                            \"headline\": \"Bereitstellung von Informationen\",\n",
            "                            \"summary\": \"Anbieter oder Vertreter müssen die angeforderten Informationen bereitstellen.\"\n",
            "                        }\n",
            "                    ]\n",
            "                }\n",
            "            ]\n",
            "        },\n",
            "        {\n",
            "            \"kapitel\": 3,\n",
            "            \"headline\": \"Technische Anforderungen\",\n",
            "            \"summary\": \"Systemarchitektur und technische Lösungen müssen klar beschrieben werden.\",\n",
            "            \"abschnitte\": [\n",
            "                {\n",
            "                    \"abschnitt\": 1,\n",
            "                    \"headline\": \"Systemarchitektur\",\n",
            "                    \"summary\": \"Beschreibung der Softwarekomponenten und ihrer Integration.\",\n",
            "                    \"artikel\": [\n",
            "                        {\n",
            "                            \"artikel\": 3,\n",
            "                            \"headline\": \"Beschreibung der Systemarchitektur\",\n",
            "                            \"summary\": \"Erklärt, wie Softwarekomponenten zusammenarbeiten.\"\n",
            "                        }\n",
            "                    ]\n",
            "                },\n",
            "                {\n",
            "                    \"abschnitt\": 2,\n",
            "                    \"headline\": \"Leistung und Validierung\",\n",
            "                    \"summary\": \"Validierungs- und Testverfahren müssen dokumentiert werden.\",\n",
            "                    \"artikel\": [\n",
            "                        {\n",
            "                            \"artikel\": 6,\n",
            "                            \"headline\": \"Technische Lösungen und Tests\",\n",
            "                            \"summary\": \"Informationen zu Testverfahren und Validierungsdaten.\"\n",
            "                        }\n",
            "                    ]\n",
            "                }\n",
            "            ]\n",
            "        }\n",
            "    ]\n",
            "}\n",
            "\n"
          ]
        }
      ]
    },
    {
      "cell_type": "markdown",
      "source": [
        "## 9.2 Working with data sets"
      ],
      "metadata": {
        "id": "CEzUEi95ei4v"
      }
    },
    {
      "cell_type": "code",
      "source": [
        "# Specify the dataset name and the column containing the content\n",
        "dataset_name = \"databricks/databricks-dolly-15k\"\n",
        "page_content_column = \"context\"  # or any other column you're interested in\n",
        "\n",
        "# Create a loader instance\n",
        "loader = HuggingFaceDatasetLoader(dataset_name, page_content_column)\n",
        "\n",
        "# Load the data\n",
        "data = loader.load()\n",
        "\n",
        "# Display the first 15 entries\n",
        "data[:2]"
      ],
      "metadata": {
        "id": "pCeasVjz9k4F"
      },
      "execution_count": null,
      "outputs": []
    }
  ]
}